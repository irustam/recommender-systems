{
 "cells": [
  {
   "cell_type": "code",
   "execution_count": 381,
   "metadata": {},
   "outputs": [],
   "source": [
    "import json\n",
    "import pandas as pd\n",
    "import numpy as np\n",
    "import matplotlib.pyplot as plt\n",
    "from pylab import rcParams\n",
    "%matplotlib inline\n",
    "\n",
    "# Для работы с матрицами\n",
    "from scipy.sparse import csr_matrix, coo_matrix\n",
    "\n",
    "# Детерминированные алгоритмы\n",
    "from implicit.nearest_neighbours import ItemItemRecommender, CosineRecommender, TFIDFRecommender, BM25Recommender\n",
    "\n",
    "# Метрики\n",
    "from implicit.evaluation import train_test_split\n",
    "from implicit.evaluation import precision_at_k, mean_average_precision_at_k, AUC_at_k, ndcg_at_k"
   ]
  },
  {
   "cell_type": "code",
   "execution_count": 139,
   "metadata": {},
   "outputs": [
    {
     "data": {
      "text/html": [
       "<div>\n",
       "<style scoped>\n",
       "    .dataframe tbody tr th:only-of-type {\n",
       "        vertical-align: middle;\n",
       "    }\n",
       "\n",
       "    .dataframe tbody tr th {\n",
       "        vertical-align: top;\n",
       "    }\n",
       "\n",
       "    .dataframe thead th {\n",
       "        text-align: right;\n",
       "    }\n",
       "</style>\n",
       "<table border=\"1\" class=\"dataframe\">\n",
       "  <thead>\n",
       "    <tr style=\"text-align: right;\">\n",
       "      <th></th>\n",
       "      <th>user_id</th>\n",
       "      <th>basket_id</th>\n",
       "      <th>day</th>\n",
       "      <th>item_id</th>\n",
       "      <th>quantity</th>\n",
       "      <th>sales_value</th>\n",
       "      <th>store_id</th>\n",
       "      <th>retail_disc</th>\n",
       "      <th>trans_time</th>\n",
       "      <th>week_no</th>\n",
       "      <th>coupon_disc</th>\n",
       "      <th>coupon_match_disc</th>\n",
       "    </tr>\n",
       "  </thead>\n",
       "  <tbody>\n",
       "    <tr>\n",
       "      <th>0</th>\n",
       "      <td>2375</td>\n",
       "      <td>26984851472</td>\n",
       "      <td>1</td>\n",
       "      <td>1004906</td>\n",
       "      <td>1</td>\n",
       "      <td>1.39</td>\n",
       "      <td>364</td>\n",
       "      <td>-0.6</td>\n",
       "      <td>1631</td>\n",
       "      <td>1</td>\n",
       "      <td>0.0</td>\n",
       "      <td>0.0</td>\n",
       "    </tr>\n",
       "    <tr>\n",
       "      <th>1</th>\n",
       "      <td>2375</td>\n",
       "      <td>26984851472</td>\n",
       "      <td>1</td>\n",
       "      <td>1033142</td>\n",
       "      <td>1</td>\n",
       "      <td>0.82</td>\n",
       "      <td>364</td>\n",
       "      <td>0.0</td>\n",
       "      <td>1631</td>\n",
       "      <td>1</td>\n",
       "      <td>0.0</td>\n",
       "      <td>0.0</td>\n",
       "    </tr>\n",
       "  </tbody>\n",
       "</table>\n",
       "</div>"
      ],
      "text/plain": [
       "   user_id    basket_id  day  item_id  quantity  sales_value  store_id  \\\n",
       "0     2375  26984851472    1  1004906         1         1.39       364   \n",
       "1     2375  26984851472    1  1033142         1         0.82       364   \n",
       "\n",
       "   retail_disc  trans_time  week_no  coupon_disc  coupon_match_disc  \n",
       "0         -0.6        1631        1          0.0                0.0  \n",
       "1          0.0        1631        1          0.0                0.0  "
      ]
     },
     "execution_count": 139,
     "metadata": {},
     "output_type": "execute_result"
    }
   ],
   "source": [
    "data = pd.read_csv('retail_train.csv')\n",
    "data.head(2)"
   ]
  },
  {
   "cell_type": "code",
   "execution_count": 140,
   "metadata": {
    "scrolled": true
   },
   "outputs": [],
   "source": [
    "test_size_weeks = 3\n",
    "\n",
    "data_train = data[data['week_no'] < data['week_no'].max() - test_size_weeks]\n",
    "data_test = data[data['week_no'] >= data['week_no'].max() - test_size_weeks]"
   ]
  },
  {
   "cell_type": "code",
   "execution_count": 141,
   "metadata": {},
   "outputs": [
    {
     "data": {
      "text/plain": [
       "(2278490, 118314)"
      ]
     },
     "execution_count": 141,
     "metadata": {},
     "output_type": "execute_result"
    }
   ],
   "source": [
    "data_train.shape[0], data_test.shape[0]"
   ]
  },
  {
   "cell_type": "code",
   "execution_count": 273,
   "metadata": {},
   "outputs": [
    {
     "data": {
      "text/html": [
       "<div>\n",
       "<style scoped>\n",
       "    .dataframe tbody tr th:only-of-type {\n",
       "        vertical-align: middle;\n",
       "    }\n",
       "\n",
       "    .dataframe tbody tr th {\n",
       "        vertical-align: top;\n",
       "    }\n",
       "\n",
       "    .dataframe thead th {\n",
       "        text-align: right;\n",
       "    }\n",
       "</style>\n",
       "<table border=\"1\" class=\"dataframe\">\n",
       "  <thead>\n",
       "    <tr style=\"text-align: right;\">\n",
       "      <th></th>\n",
       "      <th>user_id</th>\n",
       "      <th>actual</th>\n",
       "      <th>random_recommendation</th>\n",
       "      <th>popular_recommendation</th>\n",
       "      <th>itemitem</th>\n",
       "      <th>cosine</th>\n",
       "      <th>tfidf</th>\n",
       "      <th>own_purchases</th>\n",
       "    </tr>\n",
       "  </thead>\n",
       "  <tbody>\n",
       "    <tr>\n",
       "      <th>0</th>\n",
       "      <td>1</td>\n",
       "      <td>[  821867   834484   856942   865456   889248 ...</td>\n",
       "      <td>[ 991358 1050543  861603  958137  870195]</td>\n",
       "      <td>[ 999999 6534178 6533889 1029743 6534166]</td>\n",
       "      <td>[ 981760 1127831 1098066  826249  878996]</td>\n",
       "      <td>[ 981760 1127831 1098066  878996  826249]</td>\n",
       "      <td>[ 981760 1127831 1098066  826249  878996]</td>\n",
       "      <td>[ 999999 1082185 1029743  995785 1004906]</td>\n",
       "    </tr>\n",
       "    <tr>\n",
       "      <th>1</th>\n",
       "      <td>3</td>\n",
       "      <td>[  835476   851057   872021   878302   879948 ...</td>\n",
       "      <td>[ 990440 1135573 9547021 1081355 9802540]</td>\n",
       "      <td>[ 999999 6534178 6533889 1029743 6534166]</td>\n",
       "      <td>[ 981760  995242 1029743  840361  961554]</td>\n",
       "      <td>[ 981760 1004906  961554 1096036 1080414]</td>\n",
       "      <td>[ 981760 1004906  859075 1096036  961554]</td>\n",
       "      <td>[ 999999 1082185 1098066 6534178 1127831]</td>\n",
       "    </tr>\n",
       "  </tbody>\n",
       "</table>\n",
       "</div>"
      ],
      "text/plain": [
       "   user_id                                             actual  \\\n",
       "0        1  [  821867   834484   856942   865456   889248 ...   \n",
       "1        3  [  835476   851057   872021   878302   879948 ...   \n",
       "\n",
       "                       random_recommendation  \\\n",
       "0  [ 991358 1050543  861603  958137  870195]   \n",
       "1  [ 990440 1135573 9547021 1081355 9802540]   \n",
       "\n",
       "                      popular_recommendation  \\\n",
       "0  [ 999999 6534178 6533889 1029743 6534166]   \n",
       "1  [ 999999 6534178 6533889 1029743 6534166]   \n",
       "\n",
       "                                    itemitem  \\\n",
       "0  [ 981760 1127831 1098066  826249  878996]   \n",
       "1  [ 981760  995242 1029743  840361  961554]   \n",
       "\n",
       "                                      cosine  \\\n",
       "0  [ 981760 1127831 1098066  878996  826249]   \n",
       "1  [ 981760 1004906  961554 1096036 1080414]   \n",
       "\n",
       "                                       tfidf  \\\n",
       "0  [ 981760 1127831 1098066  826249  878996]   \n",
       "1  [ 981760 1004906  859075 1096036  961554]   \n",
       "\n",
       "                               own_purchases  \n",
       "0  [ 999999 1082185 1029743  995785 1004906]  \n",
       "1  [ 999999 1082185 1098066 6534178 1127831]  "
      ]
     },
     "execution_count": 273,
     "metadata": {},
     "output_type": "execute_result"
    }
   ],
   "source": [
    "result = pd.read_csv('predictions_basic1.csv', sep=';')\n",
    "result.head(2)"
   ]
  },
  {
   "cell_type": "markdown",
   "metadata": {},
   "source": [
    "### Задание 1. Weighted Random Recommendation\n",
    "\n",
    "Напишите код для случайных рекоммендаций, в которых вероятность рекомендовать товар прямо пропорциональна логарифму продаж\n",
    "- Можно сэмплировать товары случайно, но пропорционально какому-либо весу\n",
    "- Например, прямопропорционально популярности. Вес = log(sales_sum товара)"
   ]
  },
  {
   "cell_type": "code",
   "execution_count": 143,
   "metadata": {},
   "outputs": [],
   "source": [
    "def random_recommendation(items, n=5):\n",
    "    \"\"\"Случайные рекоммендации\"\"\"\n",
    "    \n",
    "    items = np.array(items)\n",
    "    recs = np.random.choice(items, size=n, replace=False)\n",
    "    \n",
    "    return recs.tolist()"
   ]
  },
  {
   "cell_type": "code",
   "execution_count": 144,
   "metadata": {},
   "outputs": [],
   "source": [
    "def weighted_random_recommendation(items_weights, n=5):\n",
    "    \"\"\"Случайные рекоммендации\n",
    "    \n",
    "    Input\n",
    "    -----\n",
    "    items_weights: pd.DataFrame\n",
    "        Датафрейм со столбцами item_id, weight. Сумма weight по всем товарам = 1\n",
    "    \"\"\"\n",
    "    items = items_weights['item_id'].to_list()\n",
    "    weights = items_weights['weight'].to_list()\n",
    "    \n",
    "    recs = np.random.choice(items, size=n, replace=False, p=weights)\n",
    "    \n",
    "    return recs.tolist()"
   ]
  },
  {
   "cell_type": "code",
   "execution_count": 274,
   "metadata": {},
   "outputs": [],
   "source": [
    "items_value = data_train.groupby('item_id')['sales_value'].sum().reset_index()\n",
    "items_value['weight'] = np.log(items_value['sales_value'] + 1e-6)\n",
    "items_value.loc[items_value['weight']<0, 'weight'] = 0\n",
    "whole_sum = items_value['weight'].sum()\n",
    "items_value['weight'] = items_value['weight'] / whole_sum\n",
    "items_value.drop('sales_value', axis=1, inplace=True)"
   ]
  },
  {
   "cell_type": "code",
   "execution_count": 275,
   "metadata": {},
   "outputs": [
    {
     "data": {
      "text/plain": [
       "1.0"
      ]
     },
     "execution_count": 275,
     "metadata": {},
     "output_type": "execute_result"
    }
   ],
   "source": [
    "items_value['weight'].sum()"
   ]
  },
  {
   "cell_type": "code",
   "execution_count": 276,
   "metadata": {},
   "outputs": [
    {
     "name": "stdout",
     "output_type": "stream",
     "text": [
      "Wall time: 23.8 s\n"
     ]
    },
    {
     "data": {
      "text/html": [
       "<div>\n",
       "<style scoped>\n",
       "    .dataframe tbody tr th:only-of-type {\n",
       "        vertical-align: middle;\n",
       "    }\n",
       "\n",
       "    .dataframe tbody tr th {\n",
       "        vertical-align: top;\n",
       "    }\n",
       "\n",
       "    .dataframe thead th {\n",
       "        text-align: right;\n",
       "    }\n",
       "</style>\n",
       "<table border=\"1\" class=\"dataframe\">\n",
       "  <thead>\n",
       "    <tr style=\"text-align: right;\">\n",
       "      <th></th>\n",
       "      <th>user_id</th>\n",
       "      <th>actual</th>\n",
       "      <th>random_recommendation</th>\n",
       "      <th>popular_recommendation</th>\n",
       "      <th>itemitem</th>\n",
       "      <th>cosine</th>\n",
       "      <th>tfidf</th>\n",
       "      <th>own_purchases</th>\n",
       "      <th>weighted_random_recommendation</th>\n",
       "    </tr>\n",
       "  </thead>\n",
       "  <tbody>\n",
       "    <tr>\n",
       "      <th>0</th>\n",
       "      <td>1</td>\n",
       "      <td>[  821867   834484   856942   865456   889248 ...</td>\n",
       "      <td>[ 991358 1050543  861603  958137  870195]</td>\n",
       "      <td>[ 999999 6534178 6533889 1029743 6534166]</td>\n",
       "      <td>[ 981760 1127831 1098066  826249  878996]</td>\n",
       "      <td>[ 981760 1127831 1098066  878996  826249]</td>\n",
       "      <td>[ 981760 1127831 1098066  826249  878996]</td>\n",
       "      <td>[ 999999 1082185 1029743  995785 1004906]</td>\n",
       "      <td>[1128325, 8090519, 889333, 12729545, 12132199]</td>\n",
       "    </tr>\n",
       "    <tr>\n",
       "      <th>1</th>\n",
       "      <td>3</td>\n",
       "      <td>[  835476   851057   872021   878302   879948 ...</td>\n",
       "      <td>[ 990440 1135573 9547021 1081355 9802540]</td>\n",
       "      <td>[ 999999 6534178 6533889 1029743 6534166]</td>\n",
       "      <td>[ 981760  995242 1029743  840361  961554]</td>\n",
       "      <td>[ 981760 1004906  961554 1096036 1080414]</td>\n",
       "      <td>[ 981760 1004906  859075 1096036  961554]</td>\n",
       "      <td>[ 999999 1082185 1098066 6534178 1127831]</td>\n",
       "      <td>[1014919, 996723, 15926306, 914483, 979975]</td>\n",
       "    </tr>\n",
       "  </tbody>\n",
       "</table>\n",
       "</div>"
      ],
      "text/plain": [
       "   user_id                                             actual  \\\n",
       "0        1  [  821867   834484   856942   865456   889248 ...   \n",
       "1        3  [  835476   851057   872021   878302   879948 ...   \n",
       "\n",
       "                       random_recommendation  \\\n",
       "0  [ 991358 1050543  861603  958137  870195]   \n",
       "1  [ 990440 1135573 9547021 1081355 9802540]   \n",
       "\n",
       "                      popular_recommendation  \\\n",
       "0  [ 999999 6534178 6533889 1029743 6534166]   \n",
       "1  [ 999999 6534178 6533889 1029743 6534166]   \n",
       "\n",
       "                                    itemitem  \\\n",
       "0  [ 981760 1127831 1098066  826249  878996]   \n",
       "1  [ 981760  995242 1029743  840361  961554]   \n",
       "\n",
       "                                      cosine  \\\n",
       "0  [ 981760 1127831 1098066  878996  826249]   \n",
       "1  [ 981760 1004906  961554 1096036 1080414]   \n",
       "\n",
       "                                       tfidf  \\\n",
       "0  [ 981760 1127831 1098066  826249  878996]   \n",
       "1  [ 981760 1004906  859075 1096036  961554]   \n",
       "\n",
       "                               own_purchases  \\\n",
       "0  [ 999999 1082185 1029743  995785 1004906]   \n",
       "1  [ 999999 1082185 1098066 6534178 1127831]   \n",
       "\n",
       "                   weighted_random_recommendation  \n",
       "0  [1128325, 8090519, 889333, 12729545, 12132199]  \n",
       "1     [1014919, 996723, 15926306, 914483, 979975]  "
      ]
     },
     "execution_count": 276,
     "metadata": {},
     "output_type": "execute_result"
    }
   ],
   "source": [
    "%%time\n",
    "result['weighted_random_recommendation'] = result['user_id'].apply(lambda x: \n",
    "                                                                   np.array(weighted_random_recommendation(items_value, n=5)))\n",
    "result.head(2)"
   ]
  },
  {
   "cell_type": "markdown",
   "metadata": {},
   "source": [
    "### Задание 2. Расчет метрик\n",
    "Рассчитайте Precision@5 для каждого алгоритма с помощью функции из вебинара 1. Какой алгоритм показывает лучшее качество?"
   ]
  },
  {
   "cell_type": "code",
   "execution_count": 399,
   "metadata": {},
   "outputs": [],
   "source": [
    "def precision_at_k(recommended_list, bought_list, k=5):\n",
    "    if not ',' in bought_list:\n",
    "        bought_list = '[' + ', '.join(bought_list[1:].split())\n",
    "    bought_list = np.array(json.loads(bought_list))\n",
    "    \n",
    "    if not ',' in recommended_list and type(recommended_list) == str:\n",
    "        recommended_list = '[' + ', '.join(recommended_list[1:].split())\n",
    "        recommended_list = np.array(json.loads(recommended_list))[:k]\n",
    "    else:\n",
    "        recommended_list = recommended_list[:k]\n",
    "        \n",
    "    flags = np.isin(bought_list, recommended_list)\n",
    "    \n",
    "    precision = flags.sum() / k\n",
    "    \n",
    "    return precision"
   ]
  },
  {
   "cell_type": "code",
   "execution_count": 398,
   "metadata": {},
   "outputs": [],
   "source": [
    "def pr_at_k(x):\n",
    "    res_lst = []\n",
    "    for a in algs:\n",
    "        res_lst.append(precision_at_k(x[a], x['actual']))\n",
    "    return res_lst"
   ]
  },
  {
   "cell_type": "code",
   "execution_count": 277,
   "metadata": {},
   "outputs": [
    {
     "data": {
      "text/plain": [
       "['random_recommendation',\n",
       " 'popular_recommendation',\n",
       " 'itemitem',\n",
       " 'cosine',\n",
       " 'tfidf',\n",
       " 'own_purchases',\n",
       " 'weighted_random_recommendation']"
      ]
     },
     "execution_count": 277,
     "metadata": {},
     "output_type": "execute_result"
    }
   ],
   "source": [
    "algs = list(result.columns)[2:]\n",
    "algs"
   ]
  },
  {
   "cell_type": "code",
   "execution_count": 278,
   "metadata": {},
   "outputs": [
    {
     "name": "stderr",
     "output_type": "stream",
     "text": [
      "C:\\Anaconda\\lib\\site-packages\\ipykernel_launcher.py:10: FutureWarning: elementwise comparison failed; returning scalar instead, but in the future will perform elementwise comparison\n",
      "  # Remove the CWD from sys.path while we load stuff.\n"
     ]
    }
   ],
   "source": [
    "result['presicion_at_5'] = result.apply(pr_at_k, axis=1)"
   ]
  },
  {
   "cell_type": "code",
   "execution_count": 279,
   "metadata": {},
   "outputs": [
    {
     "data": {
      "text/html": [
       "<div>\n",
       "<style scoped>\n",
       "    .dataframe tbody tr th:only-of-type {\n",
       "        vertical-align: middle;\n",
       "    }\n",
       "\n",
       "    .dataframe tbody tr th {\n",
       "        vertical-align: top;\n",
       "    }\n",
       "\n",
       "    .dataframe thead th {\n",
       "        text-align: right;\n",
       "    }\n",
       "</style>\n",
       "<table border=\"1\" class=\"dataframe\">\n",
       "  <thead>\n",
       "    <tr style=\"text-align: right;\">\n",
       "      <th></th>\n",
       "      <th>user_id</th>\n",
       "      <th>actual</th>\n",
       "      <th>random_recommendation</th>\n",
       "      <th>popular_recommendation</th>\n",
       "      <th>itemitem</th>\n",
       "      <th>cosine</th>\n",
       "      <th>tfidf</th>\n",
       "      <th>own_purchases</th>\n",
       "      <th>weighted_random_recommendation</th>\n",
       "      <th>presicion_at_5</th>\n",
       "    </tr>\n",
       "  </thead>\n",
       "  <tbody>\n",
       "    <tr>\n",
       "      <th>0</th>\n",
       "      <td>1</td>\n",
       "      <td>[  821867   834484   856942   865456   889248 ...</td>\n",
       "      <td>[ 991358 1050543  861603  958137  870195]</td>\n",
       "      <td>[ 999999 6534178 6533889 1029743 6534166]</td>\n",
       "      <td>[ 981760 1127831 1098066  826249  878996]</td>\n",
       "      <td>[ 981760 1127831 1098066  878996  826249]</td>\n",
       "      <td>[ 981760 1127831 1098066  826249  878996]</td>\n",
       "      <td>[ 999999 1082185 1029743  995785 1004906]</td>\n",
       "      <td>[1128325, 8090519, 889333, 12729545, 12132199]</td>\n",
       "      <td>[0.0, 0.0, 0.0, 0.0, 0.0, 0.4, 0.0]</td>\n",
       "    </tr>\n",
       "    <tr>\n",
       "      <th>1</th>\n",
       "      <td>3</td>\n",
       "      <td>[  835476   851057   872021   878302   879948 ...</td>\n",
       "      <td>[ 990440 1135573 9547021 1081355 9802540]</td>\n",
       "      <td>[ 999999 6534178 6533889 1029743 6534166]</td>\n",
       "      <td>[ 981760  995242 1029743  840361  961554]</td>\n",
       "      <td>[ 981760 1004906  961554 1096036 1080414]</td>\n",
       "      <td>[ 981760 1004906  859075 1096036  961554]</td>\n",
       "      <td>[ 999999 1082185 1098066 6534178 1127831]</td>\n",
       "      <td>[1014919, 996723, 15926306, 914483, 979975]</td>\n",
       "      <td>[0.0, 0.0, 0.0, 0.0, 0.0, 0.0, 0.0]</td>\n",
       "    </tr>\n",
       "    <tr>\n",
       "      <th>2</th>\n",
       "      <td>6</td>\n",
       "      <td>[  920308   926804   946489  1006718  1017061 ...</td>\n",
       "      <td>[15926844   923780 10121610  1031633   985234]</td>\n",
       "      <td>[ 999999 6534178 6533889 1029743 6534166]</td>\n",
       "      <td>[1098066  826249 1106523  923746 1058997]</td>\n",
       "      <td>[1098066  826249  860776  854852 1068719]</td>\n",
       "      <td>[1098066  826249  860776 1068719  916122]</td>\n",
       "      <td>[ 999999 1082185 1029743 6534178 1127831]</td>\n",
       "      <td>[1057391, 899502, 918345, 6979255, 946479]</td>\n",
       "      <td>[0.0, 0.0, 0.0, 0.0, 0.0, 0.0, 0.0]</td>\n",
       "    </tr>\n",
       "    <tr>\n",
       "      <th>3</th>\n",
       "      <td>7</td>\n",
       "      <td>[  840386   889774   898068   909714   929067 ...</td>\n",
       "      <td>[ 837527 1079228 1070463  888476  827570]</td>\n",
       "      <td>[ 999999 6534178 6533889 1029743 6534166]</td>\n",
       "      <td>[ 981760 1098066  840361  883404  916122]</td>\n",
       "      <td>[ 981760 1098066  883404 1004906  859075]</td>\n",
       "      <td>[ 981760  883404 1098066  859075  916122]</td>\n",
       "      <td>[ 999999 1082185 1029743 1127831  995785]</td>\n",
       "      <td>[933736, 5564754, 10181534, 1054992, 10355732]</td>\n",
       "      <td>[0.0, 0.0, 0.0, 0.0, 0.0, 0.2, 0.0]</td>\n",
       "    </tr>\n",
       "    <tr>\n",
       "      <th>4</th>\n",
       "      <td>8</td>\n",
       "      <td>[  835098   872137   910439   924610   992977 ...</td>\n",
       "      <td>[ 979585 6773238 9859052 1112627 1135573]</td>\n",
       "      <td>[ 999999 6534178 6533889 1029743 6534166]</td>\n",
       "      <td>[  904360 13115903 13189726 13190294 15596515]</td>\n",
       "      <td>[ 904360 5588666 1096036  979707 1013321]</td>\n",
       "      <td>[ 904360 1096036 5588666  979707 1013321]</td>\n",
       "      <td>[ 999999 1082185 1029743 1098066 6534178]</td>\n",
       "      <td>[905081, 9796938, 9396667, 1105613, 938463]</td>\n",
       "      <td>[0.0, 0.2, 0.0, 0.2, 0.2, 0.4, 0.0]</td>\n",
       "    </tr>\n",
       "  </tbody>\n",
       "</table>\n",
       "</div>"
      ],
      "text/plain": [
       "   user_id                                             actual  \\\n",
       "0        1  [  821867   834484   856942   865456   889248 ...   \n",
       "1        3  [  835476   851057   872021   878302   879948 ...   \n",
       "2        6  [  920308   926804   946489  1006718  1017061 ...   \n",
       "3        7  [  840386   889774   898068   909714   929067 ...   \n",
       "4        8  [  835098   872137   910439   924610   992977 ...   \n",
       "\n",
       "                            random_recommendation  \\\n",
       "0       [ 991358 1050543  861603  958137  870195]   \n",
       "1       [ 990440 1135573 9547021 1081355 9802540]   \n",
       "2  [15926844   923780 10121610  1031633   985234]   \n",
       "3       [ 837527 1079228 1070463  888476  827570]   \n",
       "4       [ 979585 6773238 9859052 1112627 1135573]   \n",
       "\n",
       "                      popular_recommendation  \\\n",
       "0  [ 999999 6534178 6533889 1029743 6534166]   \n",
       "1  [ 999999 6534178 6533889 1029743 6534166]   \n",
       "2  [ 999999 6534178 6533889 1029743 6534166]   \n",
       "3  [ 999999 6534178 6533889 1029743 6534166]   \n",
       "4  [ 999999 6534178 6533889 1029743 6534166]   \n",
       "\n",
       "                                         itemitem  \\\n",
       "0       [ 981760 1127831 1098066  826249  878996]   \n",
       "1       [ 981760  995242 1029743  840361  961554]   \n",
       "2       [1098066  826249 1106523  923746 1058997]   \n",
       "3       [ 981760 1098066  840361  883404  916122]   \n",
       "4  [  904360 13115903 13189726 13190294 15596515]   \n",
       "\n",
       "                                      cosine  \\\n",
       "0  [ 981760 1127831 1098066  878996  826249]   \n",
       "1  [ 981760 1004906  961554 1096036 1080414]   \n",
       "2  [1098066  826249  860776  854852 1068719]   \n",
       "3  [ 981760 1098066  883404 1004906  859075]   \n",
       "4  [ 904360 5588666 1096036  979707 1013321]   \n",
       "\n",
       "                                       tfidf  \\\n",
       "0  [ 981760 1127831 1098066  826249  878996]   \n",
       "1  [ 981760 1004906  859075 1096036  961554]   \n",
       "2  [1098066  826249  860776 1068719  916122]   \n",
       "3  [ 981760  883404 1098066  859075  916122]   \n",
       "4  [ 904360 1096036 5588666  979707 1013321]   \n",
       "\n",
       "                               own_purchases  \\\n",
       "0  [ 999999 1082185 1029743  995785 1004906]   \n",
       "1  [ 999999 1082185 1098066 6534178 1127831]   \n",
       "2  [ 999999 1082185 1029743 6534178 1127831]   \n",
       "3  [ 999999 1082185 1029743 1127831  995785]   \n",
       "4  [ 999999 1082185 1029743 1098066 6534178]   \n",
       "\n",
       "                   weighted_random_recommendation  \\\n",
       "0  [1128325, 8090519, 889333, 12729545, 12132199]   \n",
       "1     [1014919, 996723, 15926306, 914483, 979975]   \n",
       "2      [1057391, 899502, 918345, 6979255, 946479]   \n",
       "3  [933736, 5564754, 10181534, 1054992, 10355732]   \n",
       "4     [905081, 9796938, 9396667, 1105613, 938463]   \n",
       "\n",
       "                        presicion_at_5  \n",
       "0  [0.0, 0.0, 0.0, 0.0, 0.0, 0.4, 0.0]  \n",
       "1  [0.0, 0.0, 0.0, 0.0, 0.0, 0.0, 0.0]  \n",
       "2  [0.0, 0.0, 0.0, 0.0, 0.0, 0.0, 0.0]  \n",
       "3  [0.0, 0.0, 0.0, 0.0, 0.0, 0.2, 0.0]  \n",
       "4  [0.0, 0.2, 0.0, 0.2, 0.2, 0.4, 0.0]  "
      ]
     },
     "execution_count": 279,
     "metadata": {},
     "output_type": "execute_result"
    }
   ],
   "source": [
    "result.head()"
   ]
  },
  {
   "cell_type": "code",
   "execution_count": 280,
   "metadata": {},
   "outputs": [
    {
     "data": {
      "text/plain": [
       "['random_recommendation',\n",
       " 'popular_recommendation',\n",
       " 'itemitem',\n",
       " 'cosine',\n",
       " 'tfidf',\n",
       " 'own_purchases',\n",
       " 'weighted_random_recommendation']"
      ]
     },
     "execution_count": 280,
     "metadata": {},
     "output_type": "execute_result"
    }
   ],
   "source": [
    "algs"
   ]
  },
  {
   "cell_type": "code",
   "execution_count": 281,
   "metadata": {},
   "outputs": [],
   "source": [
    "pat5_cols = ['p_at_5_' + x for x in algs]\n",
    "result[pat5_cols] = pd.DataFrame(result['presicion_at_5'].tolist(), index=result.index)"
   ]
  },
  {
   "cell_type": "code",
   "execution_count": 282,
   "metadata": {},
   "outputs": [
    {
     "data": {
      "text/html": [
       "<div>\n",
       "<style scoped>\n",
       "    .dataframe tbody tr th:only-of-type {\n",
       "        vertical-align: middle;\n",
       "    }\n",
       "\n",
       "    .dataframe tbody tr th {\n",
       "        vertical-align: top;\n",
       "    }\n",
       "\n",
       "    .dataframe thead th {\n",
       "        text-align: right;\n",
       "    }\n",
       "</style>\n",
       "<table border=\"1\" class=\"dataframe\">\n",
       "  <thead>\n",
       "    <tr style=\"text-align: right;\">\n",
       "      <th></th>\n",
       "      <th>user_id</th>\n",
       "      <th>p_at_5_random_recommendation</th>\n",
       "      <th>p_at_5_popular_recommendation</th>\n",
       "      <th>p_at_5_itemitem</th>\n",
       "      <th>p_at_5_cosine</th>\n",
       "      <th>p_at_5_tfidf</th>\n",
       "      <th>p_at_5_own_purchases</th>\n",
       "      <th>p_at_5_weighted_random_recommendation</th>\n",
       "    </tr>\n",
       "  </thead>\n",
       "  <tbody>\n",
       "    <tr>\n",
       "      <th>count</th>\n",
       "      <td>2042.000000</td>\n",
       "      <td>2042.000000</td>\n",
       "      <td>2042.000000</td>\n",
       "      <td>2042.000000</td>\n",
       "      <td>2042.000000</td>\n",
       "      <td>2042.000000</td>\n",
       "      <td>2042.000000</td>\n",
       "      <td>2042.000000</td>\n",
       "    </tr>\n",
       "    <tr>\n",
       "      <th>mean</th>\n",
       "      <td>1257.930950</td>\n",
       "      <td>0.004897</td>\n",
       "      <td>0.085602</td>\n",
       "      <td>0.033595</td>\n",
       "      <td>0.035260</td>\n",
       "      <td>0.036043</td>\n",
       "      <td>0.179628</td>\n",
       "      <td>0.001077</td>\n",
       "    </tr>\n",
       "    <tr>\n",
       "      <th>std</th>\n",
       "      <td>718.052041</td>\n",
       "      <td>0.031545</td>\n",
       "      <td>0.126454</td>\n",
       "      <td>0.085772</td>\n",
       "      <td>0.087261</td>\n",
       "      <td>0.087390</td>\n",
       "      <td>0.189525</td>\n",
       "      <td>0.014643</td>\n",
       "    </tr>\n",
       "    <tr>\n",
       "      <th>min</th>\n",
       "      <td>1.000000</td>\n",
       "      <td>0.000000</td>\n",
       "      <td>0.000000</td>\n",
       "      <td>0.000000</td>\n",
       "      <td>0.000000</td>\n",
       "      <td>0.000000</td>\n",
       "      <td>0.000000</td>\n",
       "      <td>0.000000</td>\n",
       "    </tr>\n",
       "    <tr>\n",
       "      <th>25%</th>\n",
       "      <td>648.500000</td>\n",
       "      <td>0.000000</td>\n",
       "      <td>0.000000</td>\n",
       "      <td>0.000000</td>\n",
       "      <td>0.000000</td>\n",
       "      <td>0.000000</td>\n",
       "      <td>0.000000</td>\n",
       "      <td>0.000000</td>\n",
       "    </tr>\n",
       "    <tr>\n",
       "      <th>50%</th>\n",
       "      <td>1260.500000</td>\n",
       "      <td>0.000000</td>\n",
       "      <td>0.000000</td>\n",
       "      <td>0.000000</td>\n",
       "      <td>0.000000</td>\n",
       "      <td>0.000000</td>\n",
       "      <td>0.200000</td>\n",
       "      <td>0.000000</td>\n",
       "    </tr>\n",
       "    <tr>\n",
       "      <th>75%</th>\n",
       "      <td>1879.750000</td>\n",
       "      <td>0.000000</td>\n",
       "      <td>0.200000</td>\n",
       "      <td>0.000000</td>\n",
       "      <td>0.000000</td>\n",
       "      <td>0.000000</td>\n",
       "      <td>0.200000</td>\n",
       "      <td>0.000000</td>\n",
       "    </tr>\n",
       "    <tr>\n",
       "      <th>max</th>\n",
       "      <td>2500.000000</td>\n",
       "      <td>0.400000</td>\n",
       "      <td>0.600000</td>\n",
       "      <td>0.600000</td>\n",
       "      <td>0.600000</td>\n",
       "      <td>0.600000</td>\n",
       "      <td>0.800000</td>\n",
       "      <td>0.200000</td>\n",
       "    </tr>\n",
       "  </tbody>\n",
       "</table>\n",
       "</div>"
      ],
      "text/plain": [
       "           user_id  p_at_5_random_recommendation  \\\n",
       "count  2042.000000                   2042.000000   \n",
       "mean   1257.930950                      0.004897   \n",
       "std     718.052041                      0.031545   \n",
       "min       1.000000                      0.000000   \n",
       "25%     648.500000                      0.000000   \n",
       "50%    1260.500000                      0.000000   \n",
       "75%    1879.750000                      0.000000   \n",
       "max    2500.000000                      0.400000   \n",
       "\n",
       "       p_at_5_popular_recommendation  p_at_5_itemitem  p_at_5_cosine  \\\n",
       "count                    2042.000000      2042.000000    2042.000000   \n",
       "mean                        0.085602         0.033595       0.035260   \n",
       "std                         0.126454         0.085772       0.087261   \n",
       "min                         0.000000         0.000000       0.000000   \n",
       "25%                         0.000000         0.000000       0.000000   \n",
       "50%                         0.000000         0.000000       0.000000   \n",
       "75%                         0.200000         0.000000       0.000000   \n",
       "max                         0.600000         0.600000       0.600000   \n",
       "\n",
       "       p_at_5_tfidf  p_at_5_own_purchases  \\\n",
       "count   2042.000000           2042.000000   \n",
       "mean       0.036043              0.179628   \n",
       "std        0.087390              0.189525   \n",
       "min        0.000000              0.000000   \n",
       "25%        0.000000              0.000000   \n",
       "50%        0.000000              0.200000   \n",
       "75%        0.000000              0.200000   \n",
       "max        0.600000              0.800000   \n",
       "\n",
       "       p_at_5_weighted_random_recommendation  \n",
       "count                            2042.000000  \n",
       "mean                                0.001077  \n",
       "std                                 0.014643  \n",
       "min                                 0.000000  \n",
       "25%                                 0.000000  \n",
       "50%                                 0.000000  \n",
       "75%                                 0.000000  \n",
       "max                                 0.200000  "
      ]
     },
     "execution_count": 282,
     "metadata": {},
     "output_type": "execute_result"
    }
   ],
   "source": [
    "result.describe()"
   ]
  },
  {
   "cell_type": "markdown",
   "metadata": {},
   "source": [
    "Судя по среднему значению presicion@5 лучше всего сработал алгоритм ItemItem среди собственных покупок юзера - __own_purchases__\n",
    "\n",
    "И это единственный алгоритм, который обошел бейзлайн __popular_recommendation__"
   ]
  },
  {
   "cell_type": "markdown",
   "metadata": {},
   "source": [
    "### Задание 3*. Улучшение бейзлайнов и ItemItem\n",
    "\n",
    "- Попробуйте улучшить бейзлайны, считая их на топ- {2000, 5000, 10000} товаров. Постройте график зависимости precision@5 от топ-*"
   ]
  },
  {
   "cell_type": "code",
   "execution_count": 283,
   "metadata": {},
   "outputs": [],
   "source": [
    "def random_recommendation(items, n=5):\n",
    "    \"\"\"Случайные рекоммендации\"\"\"\n",
    "    \n",
    "    items = np.array(items)\n",
    "    recs = np.random.choice(items, size=n, replace=False)\n",
    "    \n",
    "    return recs.tolist()\n",
    "\n",
    "def popularity_recommendation(data, n=5):\n",
    "    \"\"\"Топ-n популярных товаров\"\"\"\n",
    "    \n",
    "    popular = data.groupby('item_id')['sales_value'].sum().reset_index()\n",
    "    popular.sort_values('sales_value', ascending=False, inplace=True)\n",
    "    \n",
    "    recs = popular.head(n).item_id\n",
    "    \n",
    "    return recs.tolist()"
   ]
  },
  {
   "cell_type": "code",
   "execution_count": 342,
   "metadata": {},
   "outputs": [],
   "source": [
    "items_value.sort_values('weight', ascending=False, inplace=True)\n",
    "items = np.array(items_value['item_id'].values)\n",
    "top_lst = [2000, 5000, 10000]\n",
    "col_rec_bl = ['random_recommendation', 'popular_recommendation', 'weighted_random_recommendation']"
   ]
  },
  {
   "cell_type": "code",
   "execution_count": 319,
   "metadata": {},
   "outputs": [
    {
     "data": {
      "text/html": [
       "<div>\n",
       "<style scoped>\n",
       "    .dataframe tbody tr th:only-of-type {\n",
       "        vertical-align: middle;\n",
       "    }\n",
       "\n",
       "    .dataframe tbody tr th {\n",
       "        vertical-align: top;\n",
       "    }\n",
       "\n",
       "    .dataframe thead th {\n",
       "        text-align: right;\n",
       "    }\n",
       "</style>\n",
       "<table border=\"1\" class=\"dataframe\">\n",
       "  <thead>\n",
       "    <tr style=\"text-align: right;\">\n",
       "      <th></th>\n",
       "      <th>item_id</th>\n",
       "      <th>sales_value</th>\n",
       "    </tr>\n",
       "  </thead>\n",
       "  <tbody>\n",
       "    <tr>\n",
       "      <th>55470</th>\n",
       "      <td>6534178</td>\n",
       "      <td>447799.94</td>\n",
       "    </tr>\n",
       "    <tr>\n",
       "      <th>55430</th>\n",
       "      <td>6533889</td>\n",
       "      <td>40483.34</td>\n",
       "    </tr>\n",
       "    <tr>\n",
       "      <th>28895</th>\n",
       "      <td>1029743</td>\n",
       "      <td>35764.66</td>\n",
       "    </tr>\n",
       "  </tbody>\n",
       "</table>\n",
       "</div>"
      ],
      "text/plain": [
       "       item_id  sales_value\n",
       "55470  6534178    447799.94\n",
       "55430  6533889     40483.34\n",
       "28895  1029743     35764.66"
      ]
     },
     "execution_count": 319,
     "metadata": {},
     "output_type": "execute_result"
    }
   ],
   "source": [
    "items_top = data_train.groupby('item_id')['sales_value'].sum().reset_index()\n",
    "# items_top['weight'] = np.log(items_top['sales_value'] + 1e-6)\n",
    "items_top.sort_values('sales_value', ascending=False, inplace=True)\n",
    "items_top.head(3)"
   ]
  },
  {
   "cell_type": "code",
   "execution_count": 323,
   "metadata": {
    "collapsed": true
   },
   "outputs": [
    {
     "name": "stderr",
     "output_type": "stream",
     "text": [
      "C:\\Anaconda\\lib\\site-packages\\ipykernel_launcher.py:4: SettingWithCopyWarning: \n",
      "A value is trying to be set on a copy of a slice from a DataFrame.\n",
      "Try using .loc[row_indexer,col_indexer] = value instead\n",
      "\n",
      "See the caveats in the documentation: https://pandas.pydata.org/pandas-docs/stable/user_guide/indexing.html#returning-a-view-versus-a-copy\n",
      "  after removing the cwd from sys.path.\n",
      "C:\\Users\\Рустам\\AppData\\Roaming\\Python\\Python37\\site-packages\\pandas\\core\\indexing.py:966: SettingWithCopyWarning: \n",
      "A value is trying to be set on a copy of a slice from a DataFrame.\n",
      "Try using .loc[row_indexer,col_indexer] = value instead\n",
      "\n",
      "See the caveats in the documentation: https://pandas.pydata.org/pandas-docs/stable/user_guide/indexing.html#returning-a-view-versus-a-copy\n",
      "  self.obj[item] = s\n",
      "C:\\Anaconda\\lib\\site-packages\\ipykernel_launcher.py:7: SettingWithCopyWarning: \n",
      "A value is trying to be set on a copy of a slice from a DataFrame.\n",
      "Try using .loc[row_indexer,col_indexer] = value instead\n",
      "\n",
      "See the caveats in the documentation: https://pandas.pydata.org/pandas-docs/stable/user_guide/indexing.html#returning-a-view-versus-a-copy\n",
      "  import sys\n",
      "C:\\Users\\Рустам\\AppData\\Roaming\\Python\\Python37\\site-packages\\pandas\\core\\frame.py:3997: SettingWithCopyWarning: \n",
      "A value is trying to be set on a copy of a slice from a DataFrame\n",
      "\n",
      "See the caveats in the documentation: https://pandas.pydata.org/pandas-docs/stable/user_guide/indexing.html#returning-a-view-versus-a-copy\n",
      "  errors=errors,\n"
     ]
    },
    {
     "name": "stdout",
     "output_type": "stream",
     "text": [
      "Wall time: 5.36 s\n"
     ]
    },
    {
     "data": {
      "text/html": [
       "<div>\n",
       "<style scoped>\n",
       "    .dataframe tbody tr th:only-of-type {\n",
       "        vertical-align: middle;\n",
       "    }\n",
       "\n",
       "    .dataframe tbody tr th {\n",
       "        vertical-align: top;\n",
       "    }\n",
       "\n",
       "    .dataframe thead th {\n",
       "        text-align: right;\n",
       "    }\n",
       "</style>\n",
       "<table border=\"1\" class=\"dataframe\">\n",
       "  <thead>\n",
       "    <tr style=\"text-align: right;\">\n",
       "      <th></th>\n",
       "      <th>user_id</th>\n",
       "      <th>actual</th>\n",
       "      <th>random_recommendation</th>\n",
       "      <th>popular_recommendation</th>\n",
       "      <th>itemitem</th>\n",
       "      <th>cosine</th>\n",
       "      <th>tfidf</th>\n",
       "      <th>own_purchases</th>\n",
       "      <th>weighted_random_recommendation</th>\n",
       "      <th>presicion_at_5</th>\n",
       "      <th>...</th>\n",
       "      <th>p_at_5_weighted_random_recommendation</th>\n",
       "      <th>random_recommendation_2000</th>\n",
       "      <th>random_recommendation_5000</th>\n",
       "      <th>random_recommendation_10000</th>\n",
       "      <th>popular_recommendation_2000</th>\n",
       "      <th>popular_recommendation_5000</th>\n",
       "      <th>popular_recommendation_10000</th>\n",
       "      <th>weighted_random_recommendation_2000</th>\n",
       "      <th>weighted_random_recommendation_5000</th>\n",
       "      <th>weighted_random_recommendation_10000</th>\n",
       "    </tr>\n",
       "  </thead>\n",
       "  <tbody>\n",
       "    <tr>\n",
       "      <th>0</th>\n",
       "      <td>1</td>\n",
       "      <td>[  821867   834484   856942   865456   889248 ...</td>\n",
       "      <td>[ 991358 1050543  861603  958137  870195]</td>\n",
       "      <td>[ 999999 6534178 6533889 1029743 6534166]</td>\n",
       "      <td>[ 981760 1127831 1098066  826249  878996]</td>\n",
       "      <td>[ 981760 1127831 1098066  878996  826249]</td>\n",
       "      <td>[ 981760 1127831 1098066  826249  878996]</td>\n",
       "      <td>[ 999999 1082185 1029743  995785 1004906]</td>\n",
       "      <td>[1128325, 8090519, 889333, 12729545, 12132199]</td>\n",
       "      <td>[0.0, 0.0, 0.0, 0.0, 0.0, 0.4, 0.0]</td>\n",
       "      <td>...</td>\n",
       "      <td>0.0</td>\n",
       "      <td>[851819, 854405, 1055425, 908213, 937210]</td>\n",
       "      <td>[963683, 891516, 825226, 9526673, 885023]</td>\n",
       "      <td>[1093355, 1103187, 963194, 1123086, 1127611]</td>\n",
       "      <td>[6534178, 6533889, 1029743, 6534166, 1082185]</td>\n",
       "      <td>[6534178, 6533889, 1029743, 6534166, 1082185]</td>\n",
       "      <td>[6534178, 6533889, 1029743, 6534166, 1082185]</td>\n",
       "      <td>[968072, 902396, 1115576, 1123792, 995151]</td>\n",
       "      <td>[1022374, 870559, 6979427, 1137775, 891423]</td>\n",
       "      <td>[1059969, 1096795, 863506, 9396750, 845082]</td>\n",
       "    </tr>\n",
       "    <tr>\n",
       "      <th>1</th>\n",
       "      <td>3</td>\n",
       "      <td>[  835476   851057   872021   878302   879948 ...</td>\n",
       "      <td>[ 990440 1135573 9547021 1081355 9802540]</td>\n",
       "      <td>[ 999999 6534178 6533889 1029743 6534166]</td>\n",
       "      <td>[ 981760  995242 1029743  840361  961554]</td>\n",
       "      <td>[ 981760 1004906  961554 1096036 1080414]</td>\n",
       "      <td>[ 981760 1004906  859075 1096036  961554]</td>\n",
       "      <td>[ 999999 1082185 1098066 6534178 1127831]</td>\n",
       "      <td>[1014919, 996723, 15926306, 914483, 979975]</td>\n",
       "      <td>[0.0, 0.0, 0.0, 0.0, 0.0, 0.0, 0.0]</td>\n",
       "      <td>...</td>\n",
       "      <td>0.0</td>\n",
       "      <td>[1025611, 837107, 12301839, 907128, 6424471]</td>\n",
       "      <td>[974204, 12302069, 900072, 831888, 1045478]</td>\n",
       "      <td>[981760, 863324, 884774, 5570685, 965679]</td>\n",
       "      <td>[6534178, 6533889, 1029743, 6534166, 1082185]</td>\n",
       "      <td>[6534178, 6533889, 1029743, 6534166, 1082185]</td>\n",
       "      <td>[6534178, 6533889, 1029743, 6534166, 1082185]</td>\n",
       "      <td>[1058779, 1042438, 832001, 865528, 869177]</td>\n",
       "      <td>[12984576, 866540, 957420, 1046584, 1042544]</td>\n",
       "      <td>[1138467, 897285, 1098284, 907099, 923723]</td>\n",
       "    </tr>\n",
       "  </tbody>\n",
       "</table>\n",
       "<p>2 rows × 26 columns</p>\n",
       "</div>"
      ],
      "text/plain": [
       "   user_id                                             actual  \\\n",
       "0        1  [  821867   834484   856942   865456   889248 ...   \n",
       "1        3  [  835476   851057   872021   878302   879948 ...   \n",
       "\n",
       "                       random_recommendation  \\\n",
       "0  [ 991358 1050543  861603  958137  870195]   \n",
       "1  [ 990440 1135573 9547021 1081355 9802540]   \n",
       "\n",
       "                      popular_recommendation  \\\n",
       "0  [ 999999 6534178 6533889 1029743 6534166]   \n",
       "1  [ 999999 6534178 6533889 1029743 6534166]   \n",
       "\n",
       "                                    itemitem  \\\n",
       "0  [ 981760 1127831 1098066  826249  878996]   \n",
       "1  [ 981760  995242 1029743  840361  961554]   \n",
       "\n",
       "                                      cosine  \\\n",
       "0  [ 981760 1127831 1098066  878996  826249]   \n",
       "1  [ 981760 1004906  961554 1096036 1080414]   \n",
       "\n",
       "                                       tfidf  \\\n",
       "0  [ 981760 1127831 1098066  826249  878996]   \n",
       "1  [ 981760 1004906  859075 1096036  961554]   \n",
       "\n",
       "                               own_purchases  \\\n",
       "0  [ 999999 1082185 1029743  995785 1004906]   \n",
       "1  [ 999999 1082185 1098066 6534178 1127831]   \n",
       "\n",
       "                   weighted_random_recommendation  \\\n",
       "0  [1128325, 8090519, 889333, 12729545, 12132199]   \n",
       "1     [1014919, 996723, 15926306, 914483, 979975]   \n",
       "\n",
       "                        presicion_at_5  ...  \\\n",
       "0  [0.0, 0.0, 0.0, 0.0, 0.0, 0.4, 0.0]  ...   \n",
       "1  [0.0, 0.0, 0.0, 0.0, 0.0, 0.0, 0.0]  ...   \n",
       "\n",
       "   p_at_5_weighted_random_recommendation  \\\n",
       "0                                    0.0   \n",
       "1                                    0.0   \n",
       "\n",
       "                     random_recommendation_2000  \\\n",
       "0     [851819, 854405, 1055425, 908213, 937210]   \n",
       "1  [1025611, 837107, 12301839, 907128, 6424471]   \n",
       "\n",
       "                    random_recommendation_5000  \\\n",
       "0    [963683, 891516, 825226, 9526673, 885023]   \n",
       "1  [974204, 12302069, 900072, 831888, 1045478]   \n",
       "\n",
       "                    random_recommendation_10000  \\\n",
       "0  [1093355, 1103187, 963194, 1123086, 1127611]   \n",
       "1     [981760, 863324, 884774, 5570685, 965679]   \n",
       "\n",
       "                     popular_recommendation_2000  \\\n",
       "0  [6534178, 6533889, 1029743, 6534166, 1082185]   \n",
       "1  [6534178, 6533889, 1029743, 6534166, 1082185]   \n",
       "\n",
       "                     popular_recommendation_5000  \\\n",
       "0  [6534178, 6533889, 1029743, 6534166, 1082185]   \n",
       "1  [6534178, 6533889, 1029743, 6534166, 1082185]   \n",
       "\n",
       "                    popular_recommendation_10000  \\\n",
       "0  [6534178, 6533889, 1029743, 6534166, 1082185]   \n",
       "1  [6534178, 6533889, 1029743, 6534166, 1082185]   \n",
       "\n",
       "          weighted_random_recommendation_2000  \\\n",
       "0  [968072, 902396, 1115576, 1123792, 995151]   \n",
       "1  [1058779, 1042438, 832001, 865528, 869177]   \n",
       "\n",
       "            weighted_random_recommendation_5000  \\\n",
       "0   [1022374, 870559, 6979427, 1137775, 891423]   \n",
       "1  [12984576, 866540, 957420, 1046584, 1042544]   \n",
       "\n",
       "          weighted_random_recommendation_10000  \n",
       "0  [1059969, 1096795, 863506, 9396750, 845082]  \n",
       "1   [1138467, 897285, 1098284, 907099, 923723]  \n",
       "\n",
       "[2 rows x 26 columns]"
      ]
     },
     "execution_count": 323,
     "metadata": {},
     "output_type": "execute_result"
    }
   ],
   "source": [
    "%%time\n",
    "\n",
    "cols_top_lst = []\n",
    "for i in top_lst:\n",
    "    items_top_n = items_top[:i]\n",
    "    items_top_n['weight'] = np.log(items_top_n['sales_value'] + 1e-6)\n",
    "    items_top_n.loc[items_top_n['weight']<0, 'weight'] = 0\n",
    "    whole_sum = items_top_n['weight'].sum()\n",
    "    items_top_n['weight'] = items_top_n['weight'] / whole_sum\n",
    "    items_top_n.drop('sales_value', axis=1, inplace=True)\n",
    "    items = items_top_n['item_id'].values\n",
    "\n",
    "    result[col_rec_bl[0] + '_' + str(i)] = result['user_id'].apply(lambda x: np.array(random_recommendation(items, n=5)))\n",
    "    result[col_rec_bl[1] + '_' + str(i)] = result['user_id'].apply(lambda x: items[:5])\n",
    "    result[col_rec_bl[2] + '_' + str(i)] = result['user_id'].apply(lambda x: \n",
    "                                                                   np.array(weighted_random_recommendation(items_top_n, n=5)))\n",
    "    cols_top_lst.extend([col_rec_bl[0] + '_' + str(i),\n",
    "                       col_rec_bl[0] + '_' + str(i),\n",
    "                       col_rec_bl[0] + '_' + str(i)])\n",
    "    \n",
    "    result['presicion_at_top_5'] = result.apply(pr_at_k, axis=1)\n",
    "    \n",
    "result.head(2)"
   ]
  },
  {
   "cell_type": "code",
   "execution_count": 325,
   "metadata": {},
   "outputs": [
    {
     "name": "stderr",
     "output_type": "stream",
     "text": [
      "C:\\Anaconda\\lib\\site-packages\\ipykernel_launcher.py:10: FutureWarning: elementwise comparison failed; returning scalar instead, but in the future will perform elementwise comparison\n",
      "  # Remove the CWD from sys.path while we load stuff.\n"
     ]
    }
   ],
   "source": [
    "algs = cols_top_lst\n",
    "result['presicion_at_top_5'] = result.apply(pr_at_k, axis=1)"
   ]
  },
  {
   "cell_type": "code",
   "execution_count": 326,
   "metadata": {},
   "outputs": [],
   "source": [
    "pat5_cols = ['p_at_5_' + x for x in algs]\n",
    "result[pat5_cols] = pd.DataFrame(result['presicion_at_top_5'].tolist(), index=result.index)"
   ]
  },
  {
   "cell_type": "code",
   "execution_count": 376,
   "metadata": {
    "collapsed": true
   },
   "outputs": [
    {
     "data": {
      "text/html": [
       "<div>\n",
       "<style scoped>\n",
       "    .dataframe tbody tr th:only-of-type {\n",
       "        vertical-align: middle;\n",
       "    }\n",
       "\n",
       "    .dataframe tbody tr th {\n",
       "        vertical-align: top;\n",
       "    }\n",
       "\n",
       "    .dataframe thead th {\n",
       "        text-align: right;\n",
       "    }\n",
       "</style>\n",
       "<table border=\"1\" class=\"dataframe\">\n",
       "  <thead>\n",
       "    <tr style=\"text-align: right;\">\n",
       "      <th></th>\n",
       "      <th>baseline</th>\n",
       "      <th>presision_at_5</th>\n",
       "    </tr>\n",
       "    <tr>\n",
       "      <th>TOP</th>\n",
       "      <th></th>\n",
       "      <th></th>\n",
       "    </tr>\n",
       "  </thead>\n",
       "  <tbody>\n",
       "    <tr>\n",
       "      <th>2000</th>\n",
       "      <td>random_recommendation</td>\n",
       "      <td>0.011166</td>\n",
       "    </tr>\n",
       "    <tr>\n",
       "      <th>2000</th>\n",
       "      <td>popular_recommendation</td>\n",
       "      <td>0.155240</td>\n",
       "    </tr>\n",
       "    <tr>\n",
       "      <th>2000</th>\n",
       "      <td>weighted_random_recommendation</td>\n",
       "      <td>0.009990</td>\n",
       "    </tr>\n",
       "    <tr>\n",
       "      <th>5000</th>\n",
       "      <td>random_recommendation</td>\n",
       "      <td>0.006268</td>\n",
       "    </tr>\n",
       "    <tr>\n",
       "      <th>5000</th>\n",
       "      <td>popular_recommendation</td>\n",
       "      <td>0.155240</td>\n",
       "    </tr>\n",
       "    <tr>\n",
       "      <th>5000</th>\n",
       "      <td>weighted_random_recommendation</td>\n",
       "      <td>0.005877</td>\n",
       "    </tr>\n",
       "    <tr>\n",
       "      <th>10000</th>\n",
       "      <td>random_recommendation</td>\n",
       "      <td>0.002742</td>\n",
       "    </tr>\n",
       "    <tr>\n",
       "      <th>10000</th>\n",
       "      <td>popular_recommendation</td>\n",
       "      <td>0.155240</td>\n",
       "    </tr>\n",
       "    <tr>\n",
       "      <th>10000</th>\n",
       "      <td>weighted_random_recommendation</td>\n",
       "      <td>0.003820</td>\n",
       "    </tr>\n",
       "  </tbody>\n",
       "</table>\n",
       "</div>"
      ],
      "text/plain": [
       "                             baseline  presision_at_5\n",
       "TOP                                                  \n",
       "2000            random_recommendation        0.011166\n",
       "2000           popular_recommendation        0.155240\n",
       "2000   weighted_random_recommendation        0.009990\n",
       "5000            random_recommendation        0.006268\n",
       "5000           popular_recommendation        0.155240\n",
       "5000   weighted_random_recommendation        0.005877\n",
       "10000           random_recommendation        0.002742\n",
       "10000          popular_recommendation        0.155240\n",
       "10000  weighted_random_recommendation        0.003820"
      ]
     },
     "execution_count": 376,
     "metadata": {},
     "output_type": "execute_result"
    }
   ],
   "source": [
    "for_plot = []\n",
    "for i in [0, 3, 6]:\n",
    "    t = top_lst[int(i/3)]\n",
    "    for n in range(3):\n",
    "        for_plot.append([t, col_rec_bl[n], result[pat5_cols[i:i+3][n]].mean()])\n",
    "for_plot_df = pd.DataFrame(for_plot, columns=['TOP', 'baseline', 'presision_at_5'])\n",
    "for_plot_df.set_index('TOP', inplace=True)\n",
    "for_plot_df"
   ]
  },
  {
   "cell_type": "code",
   "execution_count": 377,
   "metadata": {},
   "outputs": [],
   "source": [
    "p5 = []\n",
    "for col in col_rec_bl:\n",
    "    p5.append(for_plot_df.loc[for_plot_df['baseline']==col, 'presision_at_5'])"
   ]
  },
  {
   "cell_type": "code",
   "execution_count": 386,
   "metadata": {},
   "outputs": [
    {
     "data": {
      "text/plain": [
       "Text(0.5, 1.0, 'weighted_random_recommendation')"
      ]
     },
     "execution_count": 386,
     "metadata": {},
     "output_type": "execute_result"
    },
    {
     "data": {
      "image/png": "[encoded data removed]",
      "text/plain": [
       "<Figure size 432x720 with 3 Axes>"
      ]
     },
     "metadata": {
      "needs_background": "light"
     },
     "output_type": "display_data"
    }
   ],
   "source": [
    "rcParams['figure.figsize'] = 6, 10\n",
    "fig, axs = plt.subplots(3)\n",
    "axs[0].plot(p5[0])\n",
    "axs[0].set_title(col_rec_bl[0])\n",
    "axs[1].plot(p5[1])\n",
    "axs[1].set_title(col_rec_bl[1])\n",
    "axs[2].plot(p5[2])\n",
    "axs[2].set_title(col_rec_bl[2])\n"
   ]
  },
  {
   "cell_type": "markdown",
   "metadata": {},
   "source": [
    "Baseline __popular_recommendation__ показывает самую высокую метрику precision@5, конечно же одинаковую, т.к. во всех случаях выводятся одни и те же 5 товаров. Но в целом с увеличением кол-ва товаров, по которым строится baseline, уменьшается precision@5."
   ]
  },
  {
   "cell_type": "markdown",
   "metadata": {},
   "source": [
    "- Попробуйте улучшить разные варианты ItemItemRecommender, выбирая число соседей $K$. Постройте график зависимости precision@5 от $K$ "
   ]
  },
  {
   "cell_type": "code",
   "execution_count": 387,
   "metadata": {},
   "outputs": [
    {
     "data": {
      "text/html": [
       "<div>\n",
       "<style scoped>\n",
       "    .dataframe tbody tr th:only-of-type {\n",
       "        vertical-align: middle;\n",
       "    }\n",
       "\n",
       "    .dataframe tbody tr th {\n",
       "        vertical-align: top;\n",
       "    }\n",
       "\n",
       "    .dataframe thead th {\n",
       "        text-align: right;\n",
       "    }\n",
       "</style>\n",
       "<table border=\"1\" class=\"dataframe\">\n",
       "  <thead>\n",
       "    <tr style=\"text-align: right;\">\n",
       "      <th></th>\n",
       "      <th>item_id</th>\n",
       "      <th>n_sold</th>\n",
       "    </tr>\n",
       "  </thead>\n",
       "  <tbody>\n",
       "    <tr>\n",
       "      <th>0</th>\n",
       "      <td>25671</td>\n",
       "      <td>6</td>\n",
       "    </tr>\n",
       "    <tr>\n",
       "      <th>1</th>\n",
       "      <td>26081</td>\n",
       "      <td>1</td>\n",
       "    </tr>\n",
       "    <tr>\n",
       "      <th>2</th>\n",
       "      <td>26093</td>\n",
       "      <td>1</td>\n",
       "    </tr>\n",
       "    <tr>\n",
       "      <th>3</th>\n",
       "      <td>26190</td>\n",
       "      <td>1</td>\n",
       "    </tr>\n",
       "    <tr>\n",
       "      <th>4</th>\n",
       "      <td>26355</td>\n",
       "      <td>2</td>\n",
       "    </tr>\n",
       "  </tbody>\n",
       "</table>\n",
       "</div>"
      ],
      "text/plain": [
       "   item_id  n_sold\n",
       "0    25671       6\n",
       "1    26081       1\n",
       "2    26093       1\n",
       "3    26190       1\n",
       "4    26355       2"
      ]
     },
     "execution_count": 387,
     "metadata": {},
     "output_type": "execute_result"
    }
   ],
   "source": [
    "popularity = data_train.groupby('item_id')['quantity'].sum().reset_index()\n",
    "popularity.rename(columns={'quantity': 'n_sold'}, inplace=True)\n",
    "\n",
    "popularity.head()"
   ]
  },
  {
   "cell_type": "code",
   "execution_count": 388,
   "metadata": {},
   "outputs": [],
   "source": [
    "top_5000 = popularity.sort_values('n_sold', ascending=False).head(5000).item_id.tolist()"
   ]
  },
  {
   "cell_type": "code",
   "execution_count": 389,
   "metadata": {
    "scrolled": true
   },
   "outputs": [
    {
     "name": "stderr",
     "output_type": "stream",
     "text": [
      "C:\\Users\\Рустам\\AppData\\Roaming\\Python\\Python37\\site-packages\\pandas\\core\\indexing.py:966: SettingWithCopyWarning: \n",
      "A value is trying to be set on a copy of a slice from a DataFrame.\n",
      "Try using .loc[row_indexer,col_indexer] = value instead\n",
      "\n",
      "See the caveats in the documentation: https://pandas.pydata.org/pandas-docs/stable/user_guide/indexing.html#returning-a-view-versus-a-copy\n",
      "  self.obj[item] = s\n"
     ]
    },
    {
     "data": {
      "text/html": [
       "<div>\n",
       "<style scoped>\n",
       "    .dataframe tbody tr th:only-of-type {\n",
       "        vertical-align: middle;\n",
       "    }\n",
       "\n",
       "    .dataframe tbody tr th {\n",
       "        vertical-align: top;\n",
       "    }\n",
       "\n",
       "    .dataframe thead th {\n",
       "        text-align: right;\n",
       "    }\n",
       "</style>\n",
       "<table border=\"1\" class=\"dataframe\">\n",
       "  <thead>\n",
       "    <tr style=\"text-align: right;\">\n",
       "      <th>item_id</th>\n",
       "      <th>202291</th>\n",
       "      <th>397896</th>\n",
       "      <th>420647</th>\n",
       "      <th>480014</th>\n",
       "      <th>545926</th>\n",
       "      <th>707683</th>\n",
       "      <th>731106</th>\n",
       "      <th>818980</th>\n",
       "      <th>819063</th>\n",
       "      <th>819227</th>\n",
       "      <th>...</th>\n",
       "      <th>15778533</th>\n",
       "      <th>15831255</th>\n",
       "      <th>15926712</th>\n",
       "      <th>15926775</th>\n",
       "      <th>15926844</th>\n",
       "      <th>15926886</th>\n",
       "      <th>15927403</th>\n",
       "      <th>15927661</th>\n",
       "      <th>15927850</th>\n",
       "      <th>16809471</th>\n",
       "    </tr>\n",
       "    <tr>\n",
       "      <th>user_id</th>\n",
       "      <th></th>\n",
       "      <th></th>\n",
       "      <th></th>\n",
       "      <th></th>\n",
       "      <th></th>\n",
       "      <th></th>\n",
       "      <th></th>\n",
       "      <th></th>\n",
       "      <th></th>\n",
       "      <th></th>\n",
       "      <th></th>\n",
       "      <th></th>\n",
       "      <th></th>\n",
       "      <th></th>\n",
       "      <th></th>\n",
       "      <th></th>\n",
       "      <th></th>\n",
       "      <th></th>\n",
       "      <th></th>\n",
       "      <th></th>\n",
       "      <th></th>\n",
       "    </tr>\n",
       "  </thead>\n",
       "  <tbody>\n",
       "    <tr>\n",
       "      <th>1</th>\n",
       "      <td>0.0</td>\n",
       "      <td>0.0</td>\n",
       "      <td>0.0</td>\n",
       "      <td>0.0</td>\n",
       "      <td>0.0</td>\n",
       "      <td>0.0</td>\n",
       "      <td>0.0</td>\n",
       "      <td>0.0</td>\n",
       "      <td>0.0</td>\n",
       "      <td>0.0</td>\n",
       "      <td>...</td>\n",
       "      <td>0.0</td>\n",
       "      <td>0.0</td>\n",
       "      <td>0.0</td>\n",
       "      <td>0.0</td>\n",
       "      <td>1.0</td>\n",
       "      <td>0.0</td>\n",
       "      <td>0.0</td>\n",
       "      <td>0.0</td>\n",
       "      <td>0.0</td>\n",
       "      <td>0.0</td>\n",
       "    </tr>\n",
       "    <tr>\n",
       "      <th>2</th>\n",
       "      <td>0.0</td>\n",
       "      <td>0.0</td>\n",
       "      <td>0.0</td>\n",
       "      <td>0.0</td>\n",
       "      <td>0.0</td>\n",
       "      <td>0.0</td>\n",
       "      <td>0.0</td>\n",
       "      <td>0.0</td>\n",
       "      <td>0.0</td>\n",
       "      <td>0.0</td>\n",
       "      <td>...</td>\n",
       "      <td>0.0</td>\n",
       "      <td>0.0</td>\n",
       "      <td>0.0</td>\n",
       "      <td>0.0</td>\n",
       "      <td>0.0</td>\n",
       "      <td>0.0</td>\n",
       "      <td>0.0</td>\n",
       "      <td>0.0</td>\n",
       "      <td>0.0</td>\n",
       "      <td>0.0</td>\n",
       "    </tr>\n",
       "    <tr>\n",
       "      <th>3</th>\n",
       "      <td>0.0</td>\n",
       "      <td>0.0</td>\n",
       "      <td>0.0</td>\n",
       "      <td>0.0</td>\n",
       "      <td>0.0</td>\n",
       "      <td>0.0</td>\n",
       "      <td>0.0</td>\n",
       "      <td>0.0</td>\n",
       "      <td>0.0</td>\n",
       "      <td>0.0</td>\n",
       "      <td>...</td>\n",
       "      <td>0.0</td>\n",
       "      <td>0.0</td>\n",
       "      <td>0.0</td>\n",
       "      <td>0.0</td>\n",
       "      <td>0.0</td>\n",
       "      <td>0.0</td>\n",
       "      <td>0.0</td>\n",
       "      <td>0.0</td>\n",
       "      <td>0.0</td>\n",
       "      <td>0.0</td>\n",
       "    </tr>\n",
       "  </tbody>\n",
       "</table>\n",
       "<p>3 rows × 5001 columns</p>\n",
       "</div>"
      ],
      "text/plain": [
       "item_id  202291    397896    420647    480014    545926    707683    731106    \\\n",
       "user_id                                                                         \n",
       "1             0.0       0.0       0.0       0.0       0.0       0.0       0.0   \n",
       "2             0.0       0.0       0.0       0.0       0.0       0.0       0.0   \n",
       "3             0.0       0.0       0.0       0.0       0.0       0.0       0.0   \n",
       "\n",
       "item_id  818980    819063    819227    ...  15778533  15831255  15926712  \\\n",
       "user_id                                ...                                 \n",
       "1             0.0       0.0       0.0  ...       0.0       0.0       0.0   \n",
       "2             0.0       0.0       0.0  ...       0.0       0.0       0.0   \n",
       "3             0.0       0.0       0.0  ...       0.0       0.0       0.0   \n",
       "\n",
       "item_id  15926775  15926844  15926886  15927403  15927661  15927850  16809471  \n",
       "user_id                                                                        \n",
       "1             0.0       1.0       0.0       0.0       0.0       0.0       0.0  \n",
       "2             0.0       0.0       0.0       0.0       0.0       0.0       0.0  \n",
       "3             0.0       0.0       0.0       0.0       0.0       0.0       0.0  \n",
       "\n",
       "[3 rows x 5001 columns]"
      ]
     },
     "execution_count": 389,
     "metadata": {},
     "output_type": "execute_result"
    }
   ],
   "source": [
    "# Заведем фиктивный item_id (если юзер покупал товары из топ-5000, то он \"купил\" такой товар)\n",
    "data_train.loc[~data_train['item_id'].isin(top_5000), 'item_id'] = 999999\n",
    "\n",
    "user_item_matrix = pd.pivot_table(data_train, \n",
    "                                  index='user_id', columns='item_id', \n",
    "                                  values='quantity',\n",
    "                                  aggfunc='count', \n",
    "                                  fill_value=0\n",
    "                                 )\n",
    "\n",
    "user_item_matrix[user_item_matrix > 0] = 1 # так как в итоге хотим предсказать \n",
    "user_item_matrix = user_item_matrix.astype(float) # необходимый тип матрицы для implicit\n",
    "\n",
    "# переведем в формат saprse matrix\n",
    "sparse_user_item = csr_matrix(user_item_matrix).tocsr()\n",
    "\n",
    "user_item_matrix.head(3)"
   ]
  },
  {
   "cell_type": "code",
   "execution_count": 390,
   "metadata": {},
   "outputs": [
    {
     "data": {
      "text/plain": [
       "(2499, 5001)"
      ]
     },
     "execution_count": 390,
     "metadata": {},
     "output_type": "execute_result"
    }
   ],
   "source": [
    "user_item_matrix.shape"
   ]
  },
  {
   "cell_type": "code",
   "execution_count": 391,
   "metadata": {},
   "outputs": [
    {
     "data": {
      "text/plain": [
       "5.33770796861036"
      ]
     },
     "execution_count": 391,
     "metadata": {},
     "output_type": "execute_result"
    }
   ],
   "source": [
    "user_item_matrix.sum().sum() / (user_item_matrix.shape[0] * user_item_matrix.shape[1]) * 100"
   ]
  },
  {
   "cell_type": "code",
   "execution_count": 392,
   "metadata": {},
   "outputs": [],
   "source": [
    "userids = user_item_matrix.index.values\n",
    "itemids = user_item_matrix.columns.values\n",
    "\n",
    "matrix_userids = np.arange(len(userids))\n",
    "matrix_itemids = np.arange(len(itemids))\n",
    "\n",
    "id_to_itemid = dict(zip(matrix_itemids, itemids))\n",
    "id_to_userid = dict(zip(matrix_userids, userids))\n",
    "\n",
    "itemid_to_id = dict(zip(itemids, matrix_itemids))\n",
    "userid_to_id = dict(zip(userids, matrix_userids))"
   ]
  },
  {
   "cell_type": "code",
   "execution_count": 394,
   "metadata": {
    "collapsed": true
   },
   "outputs": [
    {
     "data": {
      "application/vnd.jupyter.widget-view+json": {
       "model_id": "0320bedc9c2c4965b8e97ee2a3a2998b",
       "version_major": 2,
       "version_minor": 0
      },
      "text/plain": [
       "HBox(children=(FloatProgress(value=0.0, max=5001.0), HTML(value='')))"
      ]
     },
     "metadata": {},
     "output_type": "display_data"
    },
    {
     "name": "stdout",
     "output_type": "stream",
     "text": [
      "\n"
     ]
    },
    {
     "data": {
      "application/vnd.jupyter.widget-view+json": {
       "model_id": "a200de5d0b264640874c74ac335e018f",
       "version_major": 2,
       "version_minor": 0
      },
      "text/plain": [
       "HBox(children=(FloatProgress(value=0.0, max=5001.0), HTML(value='')))"
      ]
     },
     "metadata": {},
     "output_type": "display_data"
    },
    {
     "name": "stdout",
     "output_type": "stream",
     "text": [
      "\n"
     ]
    },
    {
     "data": {
      "application/vnd.jupyter.widget-view+json": {
       "model_id": "f830cf7bdc384184b11e278d31cd78ff",
       "version_major": 2,
       "version_minor": 0
      },
      "text/plain": [
       "HBox(children=(FloatProgress(value=0.0, max=5001.0), HTML(value='')))"
      ]
     },
     "metadata": {},
     "output_type": "display_data"
    },
    {
     "name": "stdout",
     "output_type": "stream",
     "text": [
      "\n"
     ]
    },
    {
     "data": {
      "application/vnd.jupyter.widget-view+json": {
       "model_id": "9780da1663534b0da0ec5d8e754b9150",
       "version_major": 2,
       "version_minor": 0
      },
      "text/plain": [
       "HBox(children=(FloatProgress(value=0.0, max=5001.0), HTML(value='')))"
      ]
     },
     "metadata": {},
     "output_type": "display_data"
    },
    {
     "name": "stdout",
     "output_type": "stream",
     "text": [
      "\n"
     ]
    },
    {
     "data": {
      "application/vnd.jupyter.widget-view+json": {
       "model_id": "cb9615740f1b4bc18baa12c35e7622d6",
       "version_major": 2,
       "version_minor": 0
      },
      "text/plain": [
       "HBox(children=(FloatProgress(value=0.0, max=5001.0), HTML(value='')))"
      ]
     },
     "metadata": {},
     "output_type": "display_data"
    },
    {
     "name": "stdout",
     "output_type": "stream",
     "text": [
      "\n",
      "Wall time: 4.61 s\n"
     ]
    }
   ],
   "source": [
    "%%time\n",
    "\n",
    "k_lst = [3, 5, 7, 9, 11]\n",
    "\n",
    "it_lst = []\n",
    "for k in k_lst:\n",
    "    model = ItemItemRecommender(K=k, num_threads=4) # K - кол-во билжайших соседей\n",
    "\n",
    "    model.fit(csr_matrix(user_item_matrix).T.tocsr(),  # На вход item-user matrix\n",
    "              show_progress=True)\n",
    "\n",
    "    recs = model.recommend(userid=userid_to_id[2],  # userid - id от 0 до N\n",
    "                            user_items=csr_matrix(user_item_matrix).tocsr(),   # на вход user-item matrix\n",
    "                            N=5, # кол-во рекомендаций \n",
    "                            filter_already_liked_items=True, \n",
    "                            filter_items=None, \n",
    "                            recalculate_user=True)\n",
    "    \n",
    "    result['itemitem_'+str(k)] = result['user_id'].\\\n",
    "    apply(lambda x: [id_to_itemid[rec[0]] for rec in \n",
    "                    model.recommend(userid=userid_to_id[x], \n",
    "                                    user_items=sparse_user_item,   # на вход user-item matrix\n",
    "                                    N=5, \n",
    "                                    filter_already_liked_items=True, \n",
    "                                    filter_items=None, \n",
    "                                    recalculate_user=True)])\n",
    "    it_lst.append('itemitem_'+str(k))"
   ]
  },
  {
   "cell_type": "code",
   "execution_count": 400,
   "metadata": {},
   "outputs": [],
   "source": [
    "algs = it_lst\n",
    "result['presicion_at_itemitem_5'] = result.apply(pr_at_k, axis=1)"
   ]
  },
  {
   "cell_type": "code",
   "execution_count": 401,
   "metadata": {},
   "outputs": [],
   "source": [
    "pat5_cols = ['p_at_5_' + x for x in algs]\n",
    "result[pat5_cols] = pd.DataFrame(result['presicion_at_itemitem_5'].tolist(), index=result.index)"
   ]
  },
  {
   "cell_type": "code",
   "execution_count": 402,
   "metadata": {},
   "outputs": [
    {
     "data": {
      "text/plain": [
       "['p_at_5_itemitem_3',\n",
       " 'p_at_5_itemitem_5',\n",
       " 'p_at_5_itemitem_7',\n",
       " 'p_at_5_itemitem_9',\n",
       " 'p_at_5_itemitem_11']"
      ]
     },
     "execution_count": 402,
     "metadata": {},
     "output_type": "execute_result"
    }
   ],
   "source": [
    "pat5_cols"
   ]
  },
  {
   "cell_type": "code",
   "execution_count": 408,
   "metadata": {},
   "outputs": [
    {
     "data": {
      "text/html": [
       "<div>\n",
       "<style scoped>\n",
       "    .dataframe tbody tr th:only-of-type {\n",
       "        vertical-align: middle;\n",
       "    }\n",
       "\n",
       "    .dataframe tbody tr th {\n",
       "        vertical-align: top;\n",
       "    }\n",
       "\n",
       "    .dataframe thead th {\n",
       "        text-align: right;\n",
       "    }\n",
       "</style>\n",
       "<table border=\"1\" class=\"dataframe\">\n",
       "  <thead>\n",
       "    <tr style=\"text-align: right;\">\n",
       "      <th></th>\n",
       "      <th>presision_at_5</th>\n",
       "    </tr>\n",
       "    <tr>\n",
       "      <th>K</th>\n",
       "      <th></th>\n",
       "    </tr>\n",
       "  </thead>\n",
       "  <tbody>\n",
       "    <tr>\n",
       "      <th>3</th>\n",
       "      <td>0.058472</td>\n",
       "    </tr>\n",
       "    <tr>\n",
       "      <th>5</th>\n",
       "      <td>0.033595</td>\n",
       "    </tr>\n",
       "    <tr>\n",
       "      <th>7</th>\n",
       "      <td>0.031440</td>\n",
       "    </tr>\n",
       "    <tr>\n",
       "      <th>9</th>\n",
       "      <td>0.030656</td>\n",
       "    </tr>\n",
       "    <tr>\n",
       "      <th>11</th>\n",
       "      <td>0.030362</td>\n",
       "    </tr>\n",
       "  </tbody>\n",
       "</table>\n",
       "</div>"
      ],
      "text/plain": [
       "    presision_at_5\n",
       "K                 \n",
       "3         0.058472\n",
       "5         0.033595\n",
       "7         0.031440\n",
       "9         0.030656\n",
       "11        0.030362"
      ]
     },
     "execution_count": 408,
     "metadata": {},
     "output_type": "execute_result"
    }
   ],
   "source": [
    "for_plot = []\n",
    "for i, n in zip(k_lst, pat5_cols):\n",
    "    for_plot.append([i, result[n].mean()])\n",
    "for_plot_df = pd.DataFrame(for_plot, columns=['K', 'presision_at_5'])\n",
    "for_plot_df.set_index('K', inplace=True)\n",
    "for_plot_df"
   ]
  },
  {
   "cell_type": "code",
   "execution_count": 409,
   "metadata": {},
   "outputs": [
    {
     "data": {
      "text/plain": [
       "<matplotlib.axes._subplots.AxesSubplot at 0x13c8ac5f248>"
      ]
     },
     "execution_count": 409,
     "metadata": {},
     "output_type": "execute_result"
    },
    {
     "data": {
      "image/png": "[encoded data removed]",
      "text/plain": [
       "<Figure size 432x720 with 1 Axes>"
      ]
     },
     "metadata": {
      "needs_background": "light"
     },
     "output_type": "display_data"
    }
   ],
   "source": [
    "for_plot_df.plot()"
   ]
  },
  {
   "cell_type": "markdown",
   "metadata": {},
   "source": [
    "Метрика увеличивается с уменьшением K ближайших соседей. Видимо, что похожесть пользователей уменьшается с увеличением соседей."
   ]
  }
 ],
 "metadata": {
  "kernelspec": {
   "display_name": "Python 3",
   "language": "python",
   "name": "python3"
  },
  "language_info": {
   "codemirror_mode": {
    "name": "ipython",
    "version": 3
   },
   "file_extension": ".py",
   "mimetype": "text/x-python",
   "name": "python",
   "nbconvert_exporter": "python",
   "pygments_lexer": "ipython3",
   "version": "3.7.7"
  }
 },
 "nbformat": 4,
 "nbformat_minor": 4
}
