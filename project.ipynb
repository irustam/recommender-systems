{
 "cells": [
  {
   "cell_type": "code",
   "execution_count": 2,
   "metadata": {},
   "outputs": [],
   "source": [
    "import json\n",
    "import swifter\n",
    "import pandas as pd\n",
    "import numpy as np\n",
    "import matplotlib.pyplot as plt\n",
    "from pylab import rcParams\n",
    "import warnings\n",
    "%matplotlib inline\n",
    "warnings.filterwarnings('ignore')\n",
    "\n",
    "# Для работы с матрицами\n",
    "from scipy.sparse import csr_matrix, coo_matrix\n",
    "\n",
    "# Матричная факторизация\n",
    "from implicit.als import AlternatingLeastSquares\n",
    "from implicit.nearest_neighbours import bm25_weight, tfidf_weight\n",
    "\n",
    "# Детерминированные алгоритмы\n",
    "from implicit.nearest_neighbours import ItemItemRecommender, CosineRecommender, TFIDFRecommender, BM25Recommender\n",
    "\n",
    "# Метрики\n",
    "from implicit.evaluation import train_test_split\n",
    "from implicit.evaluation import mean_average_precision_at_k, AUC_at_k, ndcg_at_k\n",
    "\n",
    "import os, sys\n",
    "module_path = os.path.abspath(os.path.join(os.pardir))\n",
    "if module_path not in sys.path:\n",
    "    sys.path.append(module_path)\n",
    "\n",
    "# Написанные нами функции\n",
    "from metrics import precision_at_k, recall_at_k, money_precision_at_k\n",
    "from src.utils import prefilter_items\n",
    "from src.recommenders import MainRecommender"
   ]
  },
  {
   "cell_type": "code",
   "execution_count": 472,
   "metadata": {},
   "outputs": [],
   "source": [
    "def prefilter_items(data, take_n_popular=3000, item_features=None):\n",
    "    # Датасет с популярными товарами\n",
    "    popularity = data_train.groupby('item_id')['user_id'].nunique().reset_index()\n",
    "    popularity['share_unique_users'] = popularity['user_id'] / data_train['user_id'].nunique()\n",
    "    \n",
    "    # Уберем самые НЕ популярные товары (их и так НЕ купят)\n",
    "    top_notpopular = popularity[popularity['share_unique_users'] < 0.001].item_id.tolist()\n",
    "    print(data.shape[0])\n",
    "    data = data[~data['item_id'].isin(top_notpopular)]\n",
    "    print(data.shape[0])\n",
    "\n",
    "    # Уберем слишком дешевые товары (менее 1 доллара): \n",
    "    items_law_price_lst = item_prices.loc[item_prices['item_price']<1].index.to_list()\n",
    "    data = data[~data['item_id'].isin(items_law_price_lst)]\n",
    "\n",
    "\n",
    "    # Возьмем топ по популярности\n",
    "    popularity = data.groupby('item_id')['sales_value'].sum().reset_index()\n",
    "    top = popularity.sort_values('sales_value', ascending=False).head(take_n_popular).item_id.tolist()\n",
    "\n",
    "    # Заведем фиктивный item_id (если юзер покупал товары из топ, то он \"купил\" такой товар)\n",
    "    data.loc[~data['item_id'].isin(top), 'item_id'] = pseudo_item_id\n",
    "\n",
    "    return data"
   ]
  },
  {
   "cell_type": "code",
   "execution_count": 473,
   "metadata": {},
   "outputs": [],
   "source": [
    "def get_recommendations(user, model, N=30):\n",
    "    if user in userid_to_id.keys():\n",
    "        res = [id_to_itemid[rec[0]] for rec in \n",
    "                        model.recommend(userid=userid_to_id[user], \n",
    "                                        user_items=csr_matrix(user_item_matrix).tocsr(),   # на вход user-item matrix\n",
    "                                        N=N, \n",
    "                                        filter_already_liked_items=False, \n",
    "                                        filter_items=[itemid_to_id[pseudo_item_id]],\n",
    "                                        recalculate_user=False)]\n",
    "    else:\n",
    "        res = overall_top_purchases[:N]\n",
    "    return res"
   ]
  },
  {
   "cell_type": "code",
   "execution_count": 474,
   "metadata": {},
   "outputs": [],
   "source": [
    "def get_recommend_lst_func(u):\n",
    "    res = get_recommendations(u, model=model)\n",
    "    return res"
   ]
  },
  {
   "cell_type": "code",
   "execution_count": 475,
   "metadata": {},
   "outputs": [],
   "source": [
    "def get_own_recommend_lst_func(u):\n",
    "    res = get_recommendations(u, model=model_own)\n",
    "    return res"
   ]
  },
  {
   "cell_type": "code",
   "execution_count": 476,
   "metadata": {},
   "outputs": [
    {
     "data": {
      "text/html": [
       "<div>\n",
       "<style scoped>\n",
       "    .dataframe tbody tr th:only-of-type {\n",
       "        vertical-align: middle;\n",
       "    }\n",
       "\n",
       "    .dataframe tbody tr th {\n",
       "        vertical-align: top;\n",
       "    }\n",
       "\n",
       "    .dataframe thead th {\n",
       "        text-align: right;\n",
       "    }\n",
       "</style>\n",
       "<table border=\"1\" class=\"dataframe\">\n",
       "  <thead>\n",
       "    <tr style=\"text-align: right;\">\n",
       "      <th></th>\n",
       "      <th>user_id</th>\n",
       "      <th>basket_id</th>\n",
       "      <th>day</th>\n",
       "      <th>item_id</th>\n",
       "      <th>quantity</th>\n",
       "      <th>sales_value</th>\n",
       "      <th>store_id</th>\n",
       "      <th>retail_disc</th>\n",
       "      <th>trans_time</th>\n",
       "      <th>week_no</th>\n",
       "      <th>coupon_disc</th>\n",
       "      <th>coupon_match_disc</th>\n",
       "    </tr>\n",
       "  </thead>\n",
       "  <tbody>\n",
       "    <tr>\n",
       "      <th>2104867</th>\n",
       "      <td>2070</td>\n",
       "      <td>40618492260</td>\n",
       "      <td>594</td>\n",
       "      <td>1019940</td>\n",
       "      <td>1</td>\n",
       "      <td>1.00</td>\n",
       "      <td>311</td>\n",
       "      <td>-0.29</td>\n",
       "      <td>40</td>\n",
       "      <td>86</td>\n",
       "      <td>0.0</td>\n",
       "      <td>0.0</td>\n",
       "    </tr>\n",
       "    <tr>\n",
       "      <th>2107468</th>\n",
       "      <td>2021</td>\n",
       "      <td>40618753059</td>\n",
       "      <td>594</td>\n",
       "      <td>840361</td>\n",
       "      <td>1</td>\n",
       "      <td>0.99</td>\n",
       "      <td>443</td>\n",
       "      <td>0.00</td>\n",
       "      <td>101</td>\n",
       "      <td>86</td>\n",
       "      <td>0.0</td>\n",
       "      <td>0.0</td>\n",
       "    </tr>\n",
       "  </tbody>\n",
       "</table>\n",
       "</div>"
      ],
      "text/plain": [
       "         user_id    basket_id  day  item_id  quantity  sales_value  store_id  \\\n",
       "2104867     2070  40618492260  594  1019940         1         1.00       311   \n",
       "2107468     2021  40618753059  594   840361         1         0.99       443   \n",
       "\n",
       "         retail_disc  trans_time  week_no  coupon_disc  coupon_match_disc  \n",
       "2104867        -0.29          40       86          0.0                0.0  \n",
       "2107468         0.00         101       86          0.0                0.0  "
      ]
     },
     "execution_count": 476,
     "metadata": {},
     "output_type": "execute_result"
    }
   ],
   "source": [
    "data = pd.read_csv('./raw_data/retail_train.csv')\n",
    "\n",
    "data.columns = [col.lower() for col in data.columns]\n",
    "data.rename(columns={'household_key': 'user_id',\n",
    "                    'product_id': 'item_id'},\n",
    "           inplace=True)\n",
    "\n",
    "\n",
    "test_size_weeks = 3\n",
    "\n",
    "# data_train = data[data['week_no'] < data['week_no'].max() - test_size_weeks]\n",
    "data_train = data[(data['week_no'] < data['week_no'].max() - test_size_weeks) & (data['week_no'] > 85)]\n",
    "data_test = data[data['week_no'] >= data['week_no'].max() - test_size_weeks]\n",
    "\n",
    "# # Warm start\n",
    "# train_users = data_train['user_id'].unique()\n",
    "# data_test = data_test[data_test['user_id'].isin(train_users)]\n",
    "\n",
    "\n",
    "data_train.head(2)"
   ]
  },
  {
   "cell_type": "code",
   "execution_count": 477,
   "metadata": {},
   "outputs": [
    {
     "name": "stdout",
     "output_type": "stream",
     "text": [
      "Min неделя в трейне 86\n",
      "Max неделя в трейне 91\n",
      "Кол-во записей в трейне 169711\n"
     ]
    }
   ],
   "source": [
    "print('Min неделя в трейне', data_train['week_no'].min())\n",
    "print('Max неделя в трейне', data_train['week_no'].max())\n",
    "print('Кол-во записей в трейне', data_train.shape[0])"
   ]
  },
  {
   "cell_type": "code",
   "execution_count": 478,
   "metadata": {},
   "outputs": [],
   "source": [
    "#словарь с ценами для подсчета money_precision\n",
    "# item_prices = data.groupby('item_id', as_index=False).agg({'sales_value': 'sum', 'quantity':sum})\n",
    "# item_prices['item_price'] = item_prices.sales_value / item_prices.quantity\n",
    "# item_prices.drop(['sales_value', 'quantity'], axis=1, inplace=True)\n",
    "# item_prices = item_prices.set_index('item_id')\n",
    "# item_prices_dict = item_prices.to_dict()['item_price']"
   ]
  },
  {
   "cell_type": "code",
   "execution_count": 479,
   "metadata": {},
   "outputs": [],
   "source": [
    "#словарь с ценами для подсчета money_precision\n",
    "new_data = pd.concat([data_train, data_test])\n",
    "item_prices = new_data.groupby('item_id', as_index=False).agg({'sales_value': 'sum', 'quantity':sum})\n",
    "item_prices['item_price'] = item_prices.sales_value / item_prices.quantity\n",
    "item_prices.drop(['sales_value', 'quantity'], axis=1, inplace=True)\n",
    "item_prices = item_prices.set_index('item_id')\n",
    "item_prices_dict = item_prices.to_dict()['item_price']"
   ]
  },
  {
   "cell_type": "code",
   "execution_count": 480,
   "metadata": {},
   "outputs": [],
   "source": [
    "def add_price_column(result, item_prices_dict, column_name):\n",
    "    \"\"\"\n",
    "    добавляем в датафрейм список с ценами по указанному столбцу\n",
    "    \"\"\"\n",
    "    result[column_name+'_price'] = result[column_name].apply(lambda x: [item_prices_dict[i] for i in x])\n",
    "    return result"
   ]
  },
  {
   "cell_type": "code",
   "execution_count": 481,
   "metadata": {},
   "outputs": [
    {
     "data": {
      "text/html": [
       "<div>\n",
       "<style scoped>\n",
       "    .dataframe tbody tr th:only-of-type {\n",
       "        vertical-align: middle;\n",
       "    }\n",
       "\n",
       "    .dataframe tbody tr th {\n",
       "        vertical-align: top;\n",
       "    }\n",
       "\n",
       "    .dataframe thead th {\n",
       "        text-align: right;\n",
       "    }\n",
       "</style>\n",
       "<table border=\"1\" class=\"dataframe\">\n",
       "  <thead>\n",
       "    <tr style=\"text-align: right;\">\n",
       "      <th></th>\n",
       "      <th>user_id</th>\n",
       "      <th>actual</th>\n",
       "      <th>actual_price</th>\n",
       "    </tr>\n",
       "  </thead>\n",
       "  <tbody>\n",
       "    <tr>\n",
       "      <th>0</th>\n",
       "      <td>1</td>\n",
       "      <td>[821867, 834484, 856942, 865456, 889248, 90795...</td>\n",
       "      <td>[0.6791304347826085, 0.5213412816691507, 2.734...</td>\n",
       "    </tr>\n",
       "    <tr>\n",
       "      <th>1</th>\n",
       "      <td>3</td>\n",
       "      <td>[835476, 851057, 872021, 878302, 879948, 90963...</td>\n",
       "      <td>[1.9899999999999998, 0.3262365591397851, 0.968...</td>\n",
       "    </tr>\n",
       "  </tbody>\n",
       "</table>\n",
       "</div>"
      ],
      "text/plain": [
       "   user_id                                             actual  \\\n",
       "0        1  [821867, 834484, 856942, 865456, 889248, 90795...   \n",
       "1        3  [835476, 851057, 872021, 878302, 879948, 90963...   \n",
       "\n",
       "                                        actual_price  \n",
       "0  [0.6791304347826085, 0.5213412816691507, 2.734...  \n",
       "1  [1.9899999999999998, 0.3262365591397851, 0.968...  "
      ]
     },
     "execution_count": 481,
     "metadata": {},
     "output_type": "execute_result"
    }
   ],
   "source": [
    "#создаем датасет с реальными покупками пользователя\n",
    "result = data_test.groupby('user_id')['item_id'].unique().reset_index()\n",
    "result.columns=['user_id', 'actual']\n",
    "#добавляем в датасет результатов список цен по покупкам пользователя\n",
    "result = add_price_column(result, item_prices_dict, 'actual')\n",
    "result.head(2)"
   ]
  },
  {
   "cell_type": "code",
   "execution_count": 482,
   "metadata": {},
   "outputs": [
    {
     "name": "stdout",
     "output_type": "stream",
     "text": [
      "Товаров в трейне до фильтрации 27649\n",
      "169711\n",
      "147266\n",
      "Товаров в трейне после фильтрации 3001\n"
     ]
    }
   ],
   "source": [
    "#Префильтрация товаров\n",
    "pseudo_item_id = 999999\n",
    "print('Товаров в трейне до фильтрации', data_train.item_id.nunique())\n",
    "data_train = prefilter_items(data_train)\n",
    "print('Товаров в трейне после фильтрации', data_train.item_id.nunique())"
   ]
  },
  {
   "cell_type": "code",
   "execution_count": 483,
   "metadata": {},
   "outputs": [],
   "source": [
    "top_col = 'quantity'\n",
    "overall_top_purchases = data_train.groupby('item_id')[top_col].count().reset_index()\n",
    "overall_top_purchases.sort_values(top_col, ascending=False, inplace=True)\n",
    "overall_top_purchases = overall_top_purchases[overall_top_purchases['item_id'] != pseudo_item_id]\n",
    "overall_top_purchases = overall_top_purchases.item_id.tolist()"
   ]
  },
  {
   "cell_type": "code",
   "execution_count": 484,
   "metadata": {},
   "outputs": [
    {
     "name": "stdout",
     "output_type": "stream",
     "text": [
      "Wall time: 1.14 s\n"
     ]
    },
    {
     "data": {
      "text/html": [
       "<div>\n",
       "<style scoped>\n",
       "    .dataframe tbody tr th:only-of-type {\n",
       "        vertical-align: middle;\n",
       "    }\n",
       "\n",
       "    .dataframe tbody tr th {\n",
       "        vertical-align: top;\n",
       "    }\n",
       "\n",
       "    .dataframe thead th {\n",
       "        text-align: right;\n",
       "    }\n",
       "</style>\n",
       "<table border=\"1\" class=\"dataframe\">\n",
       "  <thead>\n",
       "    <tr style=\"text-align: right;\">\n",
       "      <th>item_id</th>\n",
       "      <th>819255</th>\n",
       "      <th>819304</th>\n",
       "      <th>819308</th>\n",
       "      <th>819518</th>\n",
       "      <th>819765</th>\n",
       "      <th>819840</th>\n",
       "      <th>819845</th>\n",
       "      <th>819927</th>\n",
       "      <th>819978</th>\n",
       "      <th>820122</th>\n",
       "      <th>...</th>\n",
       "      <th>17178955</th>\n",
       "      <th>17179084</th>\n",
       "      <th>17179627</th>\n",
       "      <th>17179662</th>\n",
       "      <th>17179907</th>\n",
       "      <th>17208470</th>\n",
       "      <th>17238070</th>\n",
       "      <th>17240213</th>\n",
       "      <th>17249614</th>\n",
       "      <th>17284423</th>\n",
       "    </tr>\n",
       "    <tr>\n",
       "      <th>user_id</th>\n",
       "      <th></th>\n",
       "      <th></th>\n",
       "      <th></th>\n",
       "      <th></th>\n",
       "      <th></th>\n",
       "      <th></th>\n",
       "      <th></th>\n",
       "      <th></th>\n",
       "      <th></th>\n",
       "      <th></th>\n",
       "      <th></th>\n",
       "      <th></th>\n",
       "      <th></th>\n",
       "      <th></th>\n",
       "      <th></th>\n",
       "      <th></th>\n",
       "      <th></th>\n",
       "      <th></th>\n",
       "      <th></th>\n",
       "      <th></th>\n",
       "      <th></th>\n",
       "    </tr>\n",
       "  </thead>\n",
       "  <tbody>\n",
       "    <tr>\n",
       "      <th>1</th>\n",
       "      <td>0.0</td>\n",
       "      <td>0.0</td>\n",
       "      <td>0.0</td>\n",
       "      <td>0.0</td>\n",
       "      <td>0.0</td>\n",
       "      <td>0.0</td>\n",
       "      <td>0.0</td>\n",
       "      <td>0.0</td>\n",
       "      <td>0.0</td>\n",
       "      <td>0.0</td>\n",
       "      <td>...</td>\n",
       "      <td>0.0</td>\n",
       "      <td>0.0</td>\n",
       "      <td>0.0</td>\n",
       "      <td>0.0</td>\n",
       "      <td>0.0</td>\n",
       "      <td>0.0</td>\n",
       "      <td>0.0</td>\n",
       "      <td>0.0</td>\n",
       "      <td>0.0</td>\n",
       "      <td>0.0</td>\n",
       "    </tr>\n",
       "    <tr>\n",
       "      <th>2</th>\n",
       "      <td>0.0</td>\n",
       "      <td>0.0</td>\n",
       "      <td>0.0</td>\n",
       "      <td>0.0</td>\n",
       "      <td>0.0</td>\n",
       "      <td>0.0</td>\n",
       "      <td>0.0</td>\n",
       "      <td>0.0</td>\n",
       "      <td>0.0</td>\n",
       "      <td>0.0</td>\n",
       "      <td>...</td>\n",
       "      <td>0.0</td>\n",
       "      <td>0.0</td>\n",
       "      <td>0.0</td>\n",
       "      <td>0.0</td>\n",
       "      <td>0.0</td>\n",
       "      <td>0.0</td>\n",
       "      <td>0.0</td>\n",
       "      <td>0.0</td>\n",
       "      <td>0.0</td>\n",
       "      <td>0.0</td>\n",
       "    </tr>\n",
       "    <tr>\n",
       "      <th>4</th>\n",
       "      <td>0.0</td>\n",
       "      <td>0.0</td>\n",
       "      <td>0.0</td>\n",
       "      <td>0.0</td>\n",
       "      <td>0.0</td>\n",
       "      <td>0.0</td>\n",
       "      <td>0.0</td>\n",
       "      <td>0.0</td>\n",
       "      <td>0.0</td>\n",
       "      <td>0.0</td>\n",
       "      <td>...</td>\n",
       "      <td>0.0</td>\n",
       "      <td>0.0</td>\n",
       "      <td>0.0</td>\n",
       "      <td>0.0</td>\n",
       "      <td>0.0</td>\n",
       "      <td>0.0</td>\n",
       "      <td>0.0</td>\n",
       "      <td>0.0</td>\n",
       "      <td>0.0</td>\n",
       "      <td>0.0</td>\n",
       "    </tr>\n",
       "  </tbody>\n",
       "</table>\n",
       "<p>3 rows × 3001 columns</p>\n",
       "</div>"
      ],
      "text/plain": [
       "item_id  819255    819304    819308    819518    819765    819840    819845    \\\n",
       "user_id                                                                         \n",
       "1             0.0       0.0       0.0       0.0       0.0       0.0       0.0   \n",
       "2             0.0       0.0       0.0       0.0       0.0       0.0       0.0   \n",
       "4             0.0       0.0       0.0       0.0       0.0       0.0       0.0   \n",
       "\n",
       "item_id  819927    819978    820122    ...  17178955  17179084  17179627  \\\n",
       "user_id                                ...                                 \n",
       "1             0.0       0.0       0.0  ...       0.0       0.0       0.0   \n",
       "2             0.0       0.0       0.0  ...       0.0       0.0       0.0   \n",
       "4             0.0       0.0       0.0  ...       0.0       0.0       0.0   \n",
       "\n",
       "item_id  17179662  17179907  17208470  17238070  17240213  17249614  17284423  \n",
       "user_id                                                                        \n",
       "1             0.0       0.0       0.0       0.0       0.0       0.0       0.0  \n",
       "2             0.0       0.0       0.0       0.0       0.0       0.0       0.0  \n",
       "4             0.0       0.0       0.0       0.0       0.0       0.0       0.0  \n",
       "\n",
       "[3 rows x 3001 columns]"
      ]
     },
     "execution_count": 484,
     "metadata": {},
     "output_type": "execute_result"
    }
   ],
   "source": [
    "%%time\n",
    "\n",
    "user_item_matrix = pd.pivot_table(data_train, \n",
    "                                  index='user_id', columns='item_id', \n",
    "                                  values='quantity', # Можно пробовать другие варианты\n",
    "                                  aggfunc='count', \n",
    "                                  fill_value=0\n",
    "                                 )\n",
    "\n",
    "user_item_matrix = user_item_matrix.astype(float) # необходимый тип матрицы для implicit\n",
    "\n",
    "# переведем в формат saprse matrix\n",
    "sparse_user_item = csr_matrix(user_item_matrix).tocsr()\n",
    "\n",
    "user_item_matrix.head(3)"
   ]
  },
  {
   "cell_type": "code",
   "execution_count": 485,
   "metadata": {},
   "outputs": [
    {
     "name": "stdout",
     "output_type": "stream",
     "text": [
      "Wall time: 4 ms\n"
     ]
    }
   ],
   "source": [
    "%%time\n",
    "userids = user_item_matrix.index.values\n",
    "itemids = user_item_matrix.columns.values\n",
    "\n",
    "matrix_userids = np.arange(len(userids))\n",
    "matrix_itemids = np.arange(len(itemids))\n",
    "\n",
    "id_to_itemid = dict(zip(matrix_itemids, itemids))\n",
    "id_to_userid = dict(zip(matrix_userids, userids))\n",
    "\n",
    "itemid_to_id = dict(zip(itemids, matrix_itemids))\n",
    "userid_to_id = dict(zip(userids, matrix_userids))"
   ]
  },
  {
   "cell_type": "markdown",
   "metadata": {},
   "source": [
    "### 2. TF-IDF взвешивание"
   ]
  },
  {
   "cell_type": "code",
   "execution_count": 303,
   "metadata": {},
   "outputs": [
    {
     "name": "stdout",
     "output_type": "stream",
     "text": [
      "Wall time: 68.8 ms\n"
     ]
    }
   ],
   "source": [
    "%%time\n",
    "user_item_matrix_tfidf = tfidf_weight(user_item_matrix.T).T  # Применяется к item-user матрице ! "
   ]
  },
  {
   "cell_type": "code",
   "execution_count": 286,
   "metadata": {},
   "outputs": [
    {
     "data": {
      "application/vnd.jupyter.widget-view+json": {
       "model_id": "e1c554556f7b4435a584c8cf23a2a620",
       "version_major": 2,
       "version_minor": 0
      },
      "text/plain": [
       "HBox(children=(FloatProgress(value=0.0, max=15.0), HTML(value='')))"
      ]
     },
     "metadata": {},
     "output_type": "display_data"
    },
    {
     "name": "stdout",
     "output_type": "stream",
     "text": [
      "\n",
      "Wall time: 3.37 s\n"
     ]
    }
   ],
   "source": [
    "%%time\n",
    "\n",
    "model = AlternatingLeastSquares(factors=10, \n",
    "                                regularization=0.001,\n",
    "                                iterations=15,\n",
    "                                calculate_training_loss=True,\n",
    "#                                 filter_items=pseudo_item_id,\n",
    "                                num_threads=4)\n",
    "\n",
    "model.fit(csr_matrix(user_item_matrix_tfidf).T.tocsr(),  # На вход item-user matrix\n",
    "          show_progress=True)"
   ]
  },
  {
   "cell_type": "code",
   "execution_count": 212,
   "metadata": {},
   "outputs": [
    {
     "data": {
      "application/vnd.jupyter.widget-view+json": {
       "model_id": "cdc090aa7fe44497b311e1d03dbf51ae",
       "version_major": 2,
       "version_minor": 0
      },
      "text/plain": [
       "HBox(children=(FloatProgress(value=0.0, description='Dask Apply', max=16.0, style=ProgressStyle(description_wi…"
      ]
     },
     "metadata": {},
     "output_type": "display_data"
    },
    {
     "name": "stdout",
     "output_type": "stream",
     "text": [
      "\n",
      "Wall time: 1min 50s\n"
     ]
    },
    {
     "data": {
      "text/plain": [
       "0.19098922624877324"
      ]
     },
     "execution_count": 212,
     "metadata": {},
     "output_type": "execute_result"
    }
   ],
   "source": [
    "%%time\n",
    "#ТОП500 по кол-ву 0.212\n",
    "#ТОП1000 по кол-ву 0.205\n",
    "#ТОП1500 по кол-ву 0.197\n",
    "#ТОП3000 по кол-ву 0.19\n",
    "#ТОП5000 по кол-ву 0.187\n",
    "result['als_tfidf'] = result['user_id'].swifter.apply(get_recommend_lst_func)\n",
    "\n",
    "result.apply(lambda row: precision_at_k(row['als_tfidf'], row['actual']), axis=1).mean()"
   ]
  },
  {
   "cell_type": "code",
   "execution_count": 213,
   "metadata": {},
   "outputs": [
    {
     "data": {
      "text/plain": [
       "0.18136473564209685"
      ]
     },
     "execution_count": 213,
     "metadata": {},
     "output_type": "execute_result"
    }
   ],
   "source": [
    "# добавляем в датасет результатов список цен по рекомендациям для пользователя\n",
    "result = add_price_column(result, item_prices_dict, 'als_tfidf')\n",
    "# и считаем money_precision_at_k\n",
    "result.apply(lambda row: money_precision_at_k(row['als_tfidf'], \n",
    "                                              row['actual'], \n",
    "                                              row['als_tfidf_price'], \n",
    "                                              row['actual_price']), axis=1).mean()"
   ]
  },
  {
   "cell_type": "markdown",
   "metadata": {},
   "source": [
    "### Без взвешивания"
   ]
  },
  {
   "cell_type": "code",
   "execution_count": 486,
   "metadata": {},
   "outputs": [
    {
     "data": {
      "application/vnd.jupyter.widget-view+json": {
       "model_id": "2db2b311321c48b292ec9877483c3889",
       "version_major": 2,
       "version_minor": 0
      },
      "text/plain": [
       "HBox(children=(FloatProgress(value=0.0, max=15.0), HTML(value='')))"
      ]
     },
     "metadata": {},
     "output_type": "display_data"
    },
    {
     "name": "stdout",
     "output_type": "stream",
     "text": [
      "\n",
      "Wall time: 2.82 s\n"
     ]
    }
   ],
   "source": [
    "%%time\n",
    "\n",
    "model = AlternatingLeastSquares(factors=10, \n",
    "                                regularization=0.001,\n",
    "                                iterations=15,\n",
    "                                calculate_training_loss=True,\n",
    "#                                 filter_items=pseudo_item_id,\n",
    "                                num_threads=4)\n",
    "\n",
    "model.fit(csr_matrix(user_item_matrix).T.tocsr(),  # На вход item-user matrix\n",
    "          show_progress=True)"
   ]
  },
  {
   "cell_type": "code",
   "execution_count": 487,
   "metadata": {},
   "outputs": [
    {
     "data": {
      "application/vnd.jupyter.widget-view+json": {
       "model_id": "14b61bcc391b4bbdad1178d20530ba50",
       "version_major": 2,
       "version_minor": 0
      },
      "text/plain": [
       "HBox(children=(FloatProgress(value=0.0, description='Dask Apply', max=16.0, style=ProgressStyle(description_wi…"
      ]
     },
     "metadata": {},
     "output_type": "display_data"
    },
    {
     "name": "stdout",
     "output_type": "stream",
     "text": [
      "\n",
      "Wall time: 1min 41s\n"
     ]
    },
    {
     "data": {
      "text/plain": [
       "0.25181194906953747"
      ]
     },
     "execution_count": 487,
     "metadata": {},
     "output_type": "execute_result"
    }
   ],
   "source": [
    "%%time\n",
    "result['als'] = result['user_id'].swifter.apply(get_recommend_lst_func)\n",
    "\n",
    "result.apply(lambda row: precision_at_k(row['als'], row['actual']), axis=1).mean()"
   ]
  },
  {
   "cell_type": "code",
   "execution_count": 488,
   "metadata": {},
   "outputs": [
    {
     "data": {
      "text/plain": [
       "0.2310115012479895"
      ]
     },
     "execution_count": 488,
     "metadata": {},
     "output_type": "execute_result"
    }
   ],
   "source": [
    "#ТОП3000 по выручке c 80-й недели 0.215\n",
    "#ТОП3000 по выручке c 85-й недели 0.233\n",
    "# добавляем в датасет результатов список цен по рекомендациям для пользователя\n",
    "result = add_price_column(result, item_prices_dict, 'als')\n",
    "# и считаем money_precision_at_k\n",
    "result.apply(lambda row: money_precision_at_k(row['als'], \n",
    "                                              row['actual'], \n",
    "                                              row['als_price'], \n",
    "                                              row['actual_price']), axis=1).mean()"
   ]
  },
  {
   "cell_type": "code",
   "execution_count": 406,
   "metadata": {
    "collapsed": true
   },
   "outputs": [
    {
     "data": {
      "text/plain": [
       "[1.3054055525313024,\n",
       " 1.0118170307059164,\n",
       " 2.547097345132744,\n",
       " 1.035513307984792,\n",
       " 2.968911917098447,\n",
       " 3.2458596973865377,\n",
       " 2.6802876106194753,\n",
       " 1.2408316430020299,\n",
       " 1.768274044795792,\n",
       " 4.019344262295083,\n",
       " 2.4376064610866397,\n",
       " 2.0080118694362015,\n",
       " 1.3280831826401507,\n",
       " 4.486156156156157,\n",
       " 4.043352517985609,\n",
       " 1.4808823529411728,\n",
       " 2.818333333333338,\n",
       " 1.6891862567811975,\n",
       " 1.3421184919210079,\n",
       " 2.863959999999994,\n",
       " 2.0231881188118708,\n",
       " 1.0181767515923565,\n",
       " 3.731694630872486,\n",
       " 4.112590909090915,\n",
       " 2.6093703703703706,\n",
       " 1.2904697986577212,\n",
       " 1.7559322033898355,\n",
       " 4.2376056338028185,\n",
       " 2.0516279069767442,\n",
       " 1.4260775862068988]"
      ]
     },
     "execution_count": 406,
     "metadata": {},
     "output_type": "execute_result"
    }
   ],
   "source": [
    "#Цены на рекомендованные товары в одной из рекомендаций\n",
    "result['als_price'][0]"
   ]
  },
  {
   "cell_type": "markdown",
   "metadata": {},
   "source": [
    "### Фильтруем по категориям:"
   ]
  },
  {
   "cell_type": "code",
   "execution_count": 489,
   "metadata": {},
   "outputs": [
    {
     "data": {
      "text/html": [
       "<div>\n",
       "<style scoped>\n",
       "    .dataframe tbody tr th:only-of-type {\n",
       "        vertical-align: middle;\n",
       "    }\n",
       "\n",
       "    .dataframe tbody tr th {\n",
       "        vertical-align: top;\n",
       "    }\n",
       "\n",
       "    .dataframe thead th {\n",
       "        text-align: right;\n",
       "    }\n",
       "</style>\n",
       "<table border=\"1\" class=\"dataframe\">\n",
       "  <thead>\n",
       "    <tr style=\"text-align: right;\">\n",
       "      <th></th>\n",
       "      <th>item_id</th>\n",
       "      <th>manufacturer</th>\n",
       "      <th>department</th>\n",
       "      <th>brand</th>\n",
       "      <th>commodity_desc</th>\n",
       "      <th>sub_commodity_desc</th>\n",
       "      <th>curr_size_of_product</th>\n",
       "    </tr>\n",
       "  </thead>\n",
       "  <tbody>\n",
       "    <tr>\n",
       "      <th>0</th>\n",
       "      <td>25671</td>\n",
       "      <td>2</td>\n",
       "      <td>GROCERY</td>\n",
       "      <td>National</td>\n",
       "      <td>FRZN ICE</td>\n",
       "      <td>ICE - CRUSHED/CUBED</td>\n",
       "      <td>22 LB</td>\n",
       "    </tr>\n",
       "    <tr>\n",
       "      <th>1</th>\n",
       "      <td>26081</td>\n",
       "      <td>2</td>\n",
       "      <td>MISC. TRANS.</td>\n",
       "      <td>National</td>\n",
       "      <td>NO COMMODITY DESCRIPTION</td>\n",
       "      <td>NO SUBCOMMODITY DESCRIPTION</td>\n",
       "      <td></td>\n",
       "    </tr>\n",
       "  </tbody>\n",
       "</table>\n",
       "</div>"
      ],
      "text/plain": [
       "   item_id  manufacturer    department     brand            commodity_desc  \\\n",
       "0    25671             2       GROCERY  National                  FRZN ICE   \n",
       "1    26081             2  MISC. TRANS.  National  NO COMMODITY DESCRIPTION   \n",
       "\n",
       "            sub_commodity_desc curr_size_of_product  \n",
       "0          ICE - CRUSHED/CUBED                22 LB  \n",
       "1  NO SUBCOMMODITY DESCRIPTION                       "
      ]
     },
     "execution_count": 489,
     "metadata": {},
     "output_type": "execute_result"
    }
   ],
   "source": [
    "# Загружаем датафрейм с категориями\n",
    "item_features = pd.read_csv('./raw_data/product.csv')\n",
    "# column processing\n",
    "item_features.columns = [col.lower() for col in item_features.columns]\n",
    "item_features.rename(columns={'product_id': 'item_id'}, inplace=True)\n",
    "item_features.head(2)"
   ]
  },
  {
   "cell_type": "code",
   "execution_count": 490,
   "metadata": {
    "scrolled": true
   },
   "outputs": [],
   "source": [
    "#нумеруем категории, чтобы проще сделать список и делаем из них словарь\n",
    "sub_commodity_desc_dict = dict((category, code) for code, category in enumerate(item_features.sub_commodity_desc.unique()))\n",
    "item_features['sub_commodity_desc_num'] = item_features.sub_commodity_desc.map(sub_commodity_desc_dict)\n",
    "item_features = item_features.set_index('item_id')\n",
    "item_cats_dict = item_features[['sub_commodity_desc_num']].to_dict()['sub_commodity_desc_num']"
   ]
  },
  {
   "cell_type": "code",
   "execution_count": 491,
   "metadata": {},
   "outputs": [],
   "source": [
    "def postfilter_cats_items(items_lst):\n",
    "    used_cats_id = []\n",
    "    result_items = []\n",
    "    for i in items_lst:\n",
    "        if item_cats_dict[i] not in used_cats_id:\n",
    "            result_items.append(i)\n",
    "            used_cats_id.append(item_cats_dict[i])\n",
    "    return result_items"
   ]
  },
  {
   "cell_type": "code",
   "execution_count": 492,
   "metadata": {
    "collapsed": true
   },
   "outputs": [
    {
     "data": {
      "text/html": [
       "<div>\n",
       "<style scoped>\n",
       "    .dataframe tbody tr th:only-of-type {\n",
       "        vertical-align: middle;\n",
       "    }\n",
       "\n",
       "    .dataframe tbody tr th {\n",
       "        vertical-align: top;\n",
       "    }\n",
       "\n",
       "    .dataframe thead th {\n",
       "        text-align: right;\n",
       "    }\n",
       "</style>\n",
       "<table border=\"1\" class=\"dataframe\">\n",
       "  <thead>\n",
       "    <tr style=\"text-align: right;\">\n",
       "      <th></th>\n",
       "      <th>user_id</th>\n",
       "      <th>actual</th>\n",
       "      <th>actual_price</th>\n",
       "      <th>als</th>\n",
       "      <th>als_price</th>\n",
       "      <th>als_catsfiltered</th>\n",
       "      <th>als_catsfiltered_count</th>\n",
       "    </tr>\n",
       "  </thead>\n",
       "  <tbody>\n",
       "    <tr>\n",
       "      <th>0</th>\n",
       "      <td>1</td>\n",
       "      <td>[821867, 834484, 856942, 865456, 889248, 90795...</td>\n",
       "      <td>[0.6791304347826085, 0.5213412816691507, 2.734...</td>\n",
       "      <td>[1082185, 995242, 1029743, 1126899, 840361, 96...</td>\n",
       "      <td>[1.0118170307059164, 1.3054055525313024, 2.474...</td>\n",
       "      <td>[1082185, 995242, 840361, 961554, 866211, 9797...</td>\n",
       "      <td>27</td>\n",
       "    </tr>\n",
       "    <tr>\n",
       "      <th>1</th>\n",
       "      <td>3</td>\n",
       "      <td>[835476, 851057, 872021, 878302, 879948, 90963...</td>\n",
       "      <td>[1.9899999999999998, 0.3262365591397851, 0.968...</td>\n",
       "      <td>[1082185, 1029743, 995242, 1106523, 981760, 84...</td>\n",
       "      <td>[1.0118170307059164, 2.47451335877862, 1.30540...</td>\n",
       "      <td>[1082185, 1029743, 981760, 840361, 962568, 914...</td>\n",
       "      <td>19</td>\n",
       "    </tr>\n",
       "  </tbody>\n",
       "</table>\n",
       "</div>"
      ],
      "text/plain": [
       "   user_id                                             actual  \\\n",
       "0        1  [821867, 834484, 856942, 865456, 889248, 90795...   \n",
       "1        3  [835476, 851057, 872021, 878302, 879948, 90963...   \n",
       "\n",
       "                                        actual_price  \\\n",
       "0  [0.6791304347826085, 0.5213412816691507, 2.734...   \n",
       "1  [1.9899999999999998, 0.3262365591397851, 0.968...   \n",
       "\n",
       "                                                 als  \\\n",
       "0  [1082185, 995242, 1029743, 1126899, 840361, 96...   \n",
       "1  [1082185, 1029743, 995242, 1106523, 981760, 84...   \n",
       "\n",
       "                                           als_price  \\\n",
       "0  [1.0118170307059164, 1.3054055525313024, 2.474...   \n",
       "1  [1.0118170307059164, 2.47451335877862, 1.30540...   \n",
       "\n",
       "                                    als_catsfiltered  als_catsfiltered_count  \n",
       "0  [1082185, 995242, 840361, 961554, 866211, 9797...                      27  \n",
       "1  [1082185, 1029743, 981760, 840361, 962568, 914...                      19  "
      ]
     },
     "execution_count": 492,
     "metadata": {},
     "output_type": "execute_result"
    }
   ],
   "source": [
    "result['als_catsfiltered'] = result['als'].apply(lambda x: postfilter_cats_items(x))\n",
    "result['als_catsfiltered_count'] = result['als_catsfiltered'].apply(lambda x: len(x))\n",
    "result.head(2)"
   ]
  },
  {
   "cell_type": "code",
   "execution_count": 493,
   "metadata": {},
   "outputs": [
    {
     "name": "stdout",
     "output_type": "stream",
     "text": [
      "Кол-во юзеров с меньше 5 рекомендациями: 0\n",
      "Всего юзеров 2042\n"
     ]
    }
   ],
   "source": [
    "print('Кол-во юзеров с меньше 5 рекомендациями:', result[result['als_catsfiltered_count']<5].shape[0])\n",
    "print('Всего юзеров', result.shape[0])"
   ]
  },
  {
   "cell_type": "code",
   "execution_count": 494,
   "metadata": {},
   "outputs": [
    {
     "data": {
      "text/plain": [
       "0.2038749334242597"
      ]
     },
     "execution_count": 494,
     "metadata": {},
     "output_type": "execute_result"
    }
   ],
   "source": [
    "# добавляем в датасет результатов список цен по рекомендациям для пользователя\n",
    "result = add_price_column(result, item_prices_dict, 'als_catsfiltered')\n",
    "# считаем money_precision_at_k\n",
    "result.apply(lambda row: money_precision_at_k(row['als_catsfiltered'], \n",
    "                                              row['actual'], \n",
    "                                              row['als_catsfiltered_price'], \n",
    "                                              row['actual_price']), axis=1).mean()"
   ]
  },
  {
   "cell_type": "code",
   "execution_count": 513,
   "metadata": {},
   "outputs": [
    {
     "data": {
      "text/html": [
       "<div>\n",
       "<style scoped>\n",
       "    .dataframe tbody tr th:only-of-type {\n",
       "        vertical-align: middle;\n",
       "    }\n",
       "\n",
       "    .dataframe tbody tr th {\n",
       "        vertical-align: top;\n",
       "    }\n",
       "\n",
       "    .dataframe thead th {\n",
       "        text-align: right;\n",
       "    }\n",
       "</style>\n",
       "<table border=\"1\" class=\"dataframe\">\n",
       "  <thead>\n",
       "    <tr style=\"text-align: right;\">\n",
       "      <th></th>\n",
       "      <th>user_id</th>\n",
       "      <th>actual</th>\n",
       "      <th>actual_price</th>\n",
       "      <th>als</th>\n",
       "      <th>als_price</th>\n",
       "      <th>als_catsfiltered</th>\n",
       "      <th>als_catsfiltered_count</th>\n",
       "      <th>als_catsfiltered_price</th>\n",
       "    </tr>\n",
       "  </thead>\n",
       "  <tbody>\n",
       "    <tr>\n",
       "      <th>0</th>\n",
       "      <td>1</td>\n",
       "      <td>[821867, 834484, 856942, 865456, 889248, 90795...</td>\n",
       "      <td>[0.6791304347826085, 0.5213412816691507, 2.734...</td>\n",
       "      <td>[1082185, 995242, 1029743, 1126899, 840361, 96...</td>\n",
       "      <td>[1.0118170307059164, 1.3054055525313024, 2.474...</td>\n",
       "      <td>[1082185, 995242, 840361, 961554, 866211, 9797...</td>\n",
       "      <td>27</td>\n",
       "      <td>[1.0118170307059164, 1.3054055525313024, 1.035...</td>\n",
       "    </tr>\n",
       "    <tr>\n",
       "      <th>1</th>\n",
       "      <td>3</td>\n",
       "      <td>[835476, 851057, 872021, 878302, 879948, 90963...</td>\n",
       "      <td>[1.9899999999999998, 0.3262365591397851, 0.968...</td>\n",
       "      <td>[1082185, 1029743, 995242, 1106523, 981760, 84...</td>\n",
       "      <td>[1.0118170307059164, 2.47451335877862, 1.30540...</td>\n",
       "      <td>[1082185, 1029743, 981760, 840361, 962568, 914...</td>\n",
       "      <td>19</td>\n",
       "      <td>[1.0118170307059164, 2.47451335877862, 1.09134...</td>\n",
       "    </tr>\n",
       "  </tbody>\n",
       "</table>\n",
       "</div>"
      ],
      "text/plain": [
       "   user_id                                             actual  \\\n",
       "0        1  [821867, 834484, 856942, 865456, 889248, 90795...   \n",
       "1        3  [835476, 851057, 872021, 878302, 879948, 90963...   \n",
       "\n",
       "                                        actual_price  \\\n",
       "0  [0.6791304347826085, 0.5213412816691507, 2.734...   \n",
       "1  [1.9899999999999998, 0.3262365591397851, 0.968...   \n",
       "\n",
       "                                                 als  \\\n",
       "0  [1082185, 995242, 1029743, 1126899, 840361, 96...   \n",
       "1  [1082185, 1029743, 995242, 1106523, 981760, 84...   \n",
       "\n",
       "                                           als_price  \\\n",
       "0  [1.0118170307059164, 1.3054055525313024, 2.474...   \n",
       "1  [1.0118170307059164, 2.47451335877862, 1.30540...   \n",
       "\n",
       "                                    als_catsfiltered  als_catsfiltered_count  \\\n",
       "0  [1082185, 995242, 840361, 961554, 866211, 9797...                      27   \n",
       "1  [1082185, 1029743, 981760, 840361, 962568, 914...                      19   \n",
       "\n",
       "                              als_catsfiltered_price  \n",
       "0  [1.0118170307059164, 1.3054055525313024, 1.035...  \n",
       "1  [1.0118170307059164, 2.47451335877862, 1.09134...  "
      ]
     },
     "execution_count": 513,
     "metadata": {},
     "output_type": "execute_result"
    }
   ],
   "source": [
    "result.head(2)"
   ]
  },
  {
   "cell_type": "markdown",
   "metadata": {},
   "source": [
    "### Добавляем дорогой товар"
   ]
  },
  {
   "cell_type": "code",
   "execution_count": 520,
   "metadata": {},
   "outputs": [],
   "source": [
    "def set_cats(item_lst):\n",
    "    res = []\n",
    "    for i in item_lst:\n",
    "        res.append(item_cats_dict[i])\n",
    "    return res"
   ]
  },
  {
   "cell_type": "code",
   "execution_count": 521,
   "metadata": {},
   "outputs": [],
   "source": [
    "result['als_cats'] = result['als_catsfiltered'].apply(lambda x: set_cats(x))"
   ]
  },
  {
   "cell_type": "code",
   "execution_count": 507,
   "metadata": {},
   "outputs": [
    {
     "data": {
      "text/plain": [
       "(11, 2042)"
      ]
     },
     "execution_count": 507,
     "metadata": {},
     "output_type": "execute_result"
    }
   ],
   "source": [
    "#Кол-во юзеров, которым порекомендовали товар дороже 7 долларов\n",
    "(result['als_catsfiltered_price'].apply(lambda x: int(sum([1 if n>7 else 0 for n in x[:5]])>0)).sum(), \n",
    " result.shape[0])"
   ]
  },
  {
   "cell_type": "code",
   "execution_count": 512,
   "metadata": {},
   "outputs": [
    {
     "data": {
      "text/plain": [
       "3659"
      ]
     },
     "execution_count": 512,
     "metadata": {},
     "output_type": "execute_result"
    }
   ],
   "source": [
    "#Получаем список дорогих товаров из дата трейна\n",
    "items_under7_price_lst = item_prices.loc[item_prices['item_price']<7].index.to_list() + [pseudo_item_id]\n",
    "hi_price_df = data_train[~data_train['item_id'].isin(items_under7_price_lst)]\n",
    "hi_price_df.sort_values(by=['quantity'], ascending=False, inplace=True)\n",
    "hi_price_lst = hi_price_df['item_id'].to_list()\n",
    "len(hi_price_lst)"
   ]
  },
  {
   "cell_type": "code",
   "execution_count": 522,
   "metadata": {},
   "outputs": [
    {
     "data": {
      "text/html": [
       "<div>\n",
       "<style scoped>\n",
       "    .dataframe tbody tr th:only-of-type {\n",
       "        vertical-align: middle;\n",
       "    }\n",
       "\n",
       "    .dataframe tbody tr th {\n",
       "        vertical-align: top;\n",
       "    }\n",
       "\n",
       "    .dataframe thead th {\n",
       "        text-align: right;\n",
       "    }\n",
       "</style>\n",
       "<table border=\"1\" class=\"dataframe\">\n",
       "  <thead>\n",
       "    <tr style=\"text-align: right;\">\n",
       "      <th></th>\n",
       "      <th>user_id</th>\n",
       "      <th>actual</th>\n",
       "      <th>actual_price</th>\n",
       "      <th>als</th>\n",
       "      <th>als_price</th>\n",
       "      <th>als_catsfiltered</th>\n",
       "      <th>als_catsfiltered_count</th>\n",
       "      <th>als_catsfiltered_price</th>\n",
       "      <th>als_seven_in_k</th>\n",
       "      <th>als_seven_in_rec</th>\n",
       "      <th>als_cats</th>\n",
       "    </tr>\n",
       "  </thead>\n",
       "  <tbody>\n",
       "    <tr>\n",
       "      <th>0</th>\n",
       "      <td>1</td>\n",
       "      <td>[821867, 834484, 856942, 865456, 889248, 90795...</td>\n",
       "      <td>[0.6791304347826085, 0.5213412816691507, 2.734...</td>\n",
       "      <td>[1082185, 995242, 1029743, 1126899, 840361, 96...</td>\n",
       "      <td>[1.0118170307059164, 1.3054055525313024, 2.474...</td>\n",
       "      <td>[1082185, 995242, 840361, 961554, 866211, 9797...</td>\n",
       "      <td>27</td>\n",
       "      <td>[1.0118170307059164, 1.3054055525313024, 1.035...</td>\n",
       "      <td>0</td>\n",
       "      <td>0</td>\n",
       "      <td>[713, 48, 260, 330, 318, 509, 96, 59, 971, 772...</td>\n",
       "    </tr>\n",
       "    <tr>\n",
       "      <th>1</th>\n",
       "      <td>3</td>\n",
       "      <td>[835476, 851057, 872021, 878302, 879948, 90963...</td>\n",
       "      <td>[1.9899999999999998, 0.3262365591397851, 0.968...</td>\n",
       "      <td>[1082185, 1029743, 995242, 1106523, 981760, 84...</td>\n",
       "      <td>[1.0118170307059164, 2.47451335877862, 1.30540...</td>\n",
       "      <td>[1082185, 1029743, 981760, 840361, 962568, 914...</td>\n",
       "      <td>19</td>\n",
       "      <td>[1.0118170307059164, 2.47451335877862, 1.09134...</td>\n",
       "      <td>0</td>\n",
       "      <td>0</td>\n",
       "      <td>[713, 48, 59, 260, 757, 232, 741, 64, 18, 47, ...</td>\n",
       "    </tr>\n",
       "  </tbody>\n",
       "</table>\n",
       "</div>"
      ],
      "text/plain": [
       "   user_id                                             actual  \\\n",
       "0        1  [821867, 834484, 856942, 865456, 889248, 90795...   \n",
       "1        3  [835476, 851057, 872021, 878302, 879948, 90963...   \n",
       "\n",
       "                                        actual_price  \\\n",
       "0  [0.6791304347826085, 0.5213412816691507, 2.734...   \n",
       "1  [1.9899999999999998, 0.3262365591397851, 0.968...   \n",
       "\n",
       "                                                 als  \\\n",
       "0  [1082185, 995242, 1029743, 1126899, 840361, 96...   \n",
       "1  [1082185, 1029743, 995242, 1106523, 981760, 84...   \n",
       "\n",
       "                                           als_price  \\\n",
       "0  [1.0118170307059164, 1.3054055525313024, 2.474...   \n",
       "1  [1.0118170307059164, 2.47451335877862, 1.30540...   \n",
       "\n",
       "                                    als_catsfiltered  als_catsfiltered_count  \\\n",
       "0  [1082185, 995242, 840361, 961554, 866211, 9797...                      27   \n",
       "1  [1082185, 1029743, 981760, 840361, 962568, 914...                      19   \n",
       "\n",
       "                              als_catsfiltered_price  als_seven_in_k  \\\n",
       "0  [1.0118170307059164, 1.3054055525313024, 1.035...               0   \n",
       "1  [1.0118170307059164, 2.47451335877862, 1.09134...               0   \n",
       "\n",
       "   als_seven_in_rec                                           als_cats  \n",
       "0                 0  [713, 48, 260, 330, 318, 509, 96, 59, 971, 772...  \n",
       "1                 0  [713, 48, 59, 260, 757, 232, 741, 64, 18, 47, ...  "
      ]
     },
     "execution_count": 522,
     "metadata": {},
     "output_type": "execute_result"
    }
   ],
   "source": [
    "result['als_seven_in_k'] = result['als_catsfiltered_price'].apply(lambda x: int(sum([1 if n>7 else 0 for n in x[:5]])>0))\n",
    "result['als_seven_in_rec'] = result['als_catsfiltered_price'].apply(lambda x: int(sum([1 if n>7 else 0 for n in x])>0))\n",
    "result.head(2)"
   ]
  },
  {
   "cell_type": "code",
   "execution_count": 562,
   "metadata": {},
   "outputs": [],
   "source": [
    "def add_seven(row, k=5):\n",
    "    res = row['als_catsfiltered'][:]\n",
    "    if row['als_seven_in_k']>0:\n",
    "        return res\n",
    "    elif row['als_seven_in_rec']>0:\n",
    "        for n, p in zip(row['als_catsfiltered'], row['als_catsfiltered_price']):\n",
    "            if p>7:\n",
    "                seven = n\n",
    "                res[4] = n\n",
    "                return res\n",
    "    else:\n",
    "        for np in hi_price_lst:\n",
    "            if item_cats_dict[np] not in row['als_cats'][:k]:\n",
    "                res[4] = np\n",
    "                return res"
   ]
  },
  {
   "cell_type": "code",
   "execution_count": 563,
   "metadata": {},
   "outputs": [],
   "source": [
    "result['als_catsfiltered_added7'] = result.apply(lambda row: add_seven(row), axis=1)"
   ]
  },
  {
   "cell_type": "code",
   "execution_count": 564,
   "metadata": {},
   "outputs": [
    {
     "data": {
      "text/html": [
       "<div>\n",
       "<style scoped>\n",
       "    .dataframe tbody tr th:only-of-type {\n",
       "        vertical-align: middle;\n",
       "    }\n",
       "\n",
       "    .dataframe tbody tr th {\n",
       "        vertical-align: top;\n",
       "    }\n",
       "\n",
       "    .dataframe thead th {\n",
       "        text-align: right;\n",
       "    }\n",
       "</style>\n",
       "<table border=\"1\" class=\"dataframe\">\n",
       "  <thead>\n",
       "    <tr style=\"text-align: right;\">\n",
       "      <th></th>\n",
       "      <th>user_id</th>\n",
       "      <th>actual</th>\n",
       "      <th>actual_price</th>\n",
       "      <th>als</th>\n",
       "      <th>als_price</th>\n",
       "      <th>als_catsfiltered</th>\n",
       "      <th>als_catsfiltered_count</th>\n",
       "      <th>als_catsfiltered_price</th>\n",
       "      <th>als_seven_in_k</th>\n",
       "      <th>als_seven_in_rec</th>\n",
       "      <th>als_cats</th>\n",
       "      <th>als_catsfiltered_added7</th>\n",
       "      <th>als_catsfiltered_added7_count</th>\n",
       "      <th>als_catsfiltered_added7_price</th>\n",
       "    </tr>\n",
       "  </thead>\n",
       "  <tbody>\n",
       "    <tr>\n",
       "      <th>0</th>\n",
       "      <td>1</td>\n",
       "      <td>[821867, 834484, 856942, 865456, 889248, 90795...</td>\n",
       "      <td>[0.6791304347826085, 0.5213412816691507, 2.734...</td>\n",
       "      <td>[1082185, 995242, 1029743, 1126899, 840361, 96...</td>\n",
       "      <td>[1.0118170307059164, 1.3054055525313024, 2.474...</td>\n",
       "      <td>[1082185, 995242, 840361, 961554, 866211, 9797...</td>\n",
       "      <td>27</td>\n",
       "      <td>[1.0118170307059164, 1.3054055525313024, 1.035...</td>\n",
       "      <td>0</td>\n",
       "      <td>0</td>\n",
       "      <td>[713, 48, 260, 330, 318, 509, 96, 59, 971, 772...</td>\n",
       "      <td>[1082185, 995242, 840361, 961554, 13416117, 97...</td>\n",
       "      <td>27</td>\n",
       "      <td>[7.085238095238096, 1.3054055525313024, 1.0355...</td>\n",
       "    </tr>\n",
       "    <tr>\n",
       "      <th>1</th>\n",
       "      <td>3</td>\n",
       "      <td>[835476, 851057, 872021, 878302, 879948, 90963...</td>\n",
       "      <td>[1.9899999999999998, 0.3262365591397851, 0.968...</td>\n",
       "      <td>[1082185, 1029743, 995242, 1106523, 981760, 84...</td>\n",
       "      <td>[1.0118170307059164, 2.47451335877862, 1.30540...</td>\n",
       "      <td>[1082185, 1029743, 981760, 840361, 962568, 914...</td>\n",
       "      <td>19</td>\n",
       "      <td>[1.0118170307059164, 2.47451335877862, 1.09134...</td>\n",
       "      <td>0</td>\n",
       "      <td>0</td>\n",
       "      <td>[713, 48, 59, 260, 757, 232, 741, 64, 18, 47, ...</td>\n",
       "      <td>[1082185, 1029743, 981760, 840361, 13416117, 9...</td>\n",
       "      <td>19</td>\n",
       "      <td>[7.085238095238096, 2.47451335877862, 1.091340...</td>\n",
       "    </tr>\n",
       "  </tbody>\n",
       "</table>\n",
       "</div>"
      ],
      "text/plain": [
       "   user_id                                             actual  \\\n",
       "0        1  [821867, 834484, 856942, 865456, 889248, 90795...   \n",
       "1        3  [835476, 851057, 872021, 878302, 879948, 90963...   \n",
       "\n",
       "                                        actual_price  \\\n",
       "0  [0.6791304347826085, 0.5213412816691507, 2.734...   \n",
       "1  [1.9899999999999998, 0.3262365591397851, 0.968...   \n",
       "\n",
       "                                                 als  \\\n",
       "0  [1082185, 995242, 1029743, 1126899, 840361, 96...   \n",
       "1  [1082185, 1029743, 995242, 1106523, 981760, 84...   \n",
       "\n",
       "                                           als_price  \\\n",
       "0  [1.0118170307059164, 1.3054055525313024, 2.474...   \n",
       "1  [1.0118170307059164, 2.47451335877862, 1.30540...   \n",
       "\n",
       "                                    als_catsfiltered  als_catsfiltered_count  \\\n",
       "0  [1082185, 995242, 840361, 961554, 866211, 9797...                      27   \n",
       "1  [1082185, 1029743, 981760, 840361, 962568, 914...                      19   \n",
       "\n",
       "                              als_catsfiltered_price  als_seven_in_k  \\\n",
       "0  [1.0118170307059164, 1.3054055525313024, 1.035...               0   \n",
       "1  [1.0118170307059164, 2.47451335877862, 1.09134...               0   \n",
       "\n",
       "   als_seven_in_rec                                           als_cats  \\\n",
       "0                 0  [713, 48, 260, 330, 318, 509, 96, 59, 971, 772...   \n",
       "1                 0  [713, 48, 59, 260, 757, 232, 741, 64, 18, 47, ...   \n",
       "\n",
       "                             als_catsfiltered_added7  \\\n",
       "0  [1082185, 995242, 840361, 961554, 13416117, 97...   \n",
       "1  [1082185, 1029743, 981760, 840361, 13416117, 9...   \n",
       "\n",
       "   als_catsfiltered_added7_count  \\\n",
       "0                             27   \n",
       "1                             19   \n",
       "\n",
       "                       als_catsfiltered_added7_price  \n",
       "0  [7.085238095238096, 1.3054055525313024, 1.0355...  \n",
       "1  [7.085238095238096, 2.47451335877862, 1.091340...  "
      ]
     },
     "execution_count": 564,
     "metadata": {},
     "output_type": "execute_result"
    }
   ],
   "source": [
    "result.head(2)"
   ]
  },
  {
   "cell_type": "code",
   "execution_count": 565,
   "metadata": {},
   "outputs": [
    {
     "data": {
      "text/plain": [
       "(2042, 2042)"
      ]
     },
     "execution_count": 565,
     "metadata": {},
     "output_type": "execute_result"
    }
   ],
   "source": [
    "#Кол-во юзеров, которым порекомендовали товар дороже 7 долларов\n",
    "(result['als_catsfiltered_added7'].apply(lambda x: int(sum([1 if n>7 else 0 for n in x[:5]])>0)).sum(), \n",
    " result.shape[0])"
   ]
  },
  {
   "cell_type": "code",
   "execution_count": 566,
   "metadata": {},
   "outputs": [],
   "source": [
    "result['als_catsfiltered_added7_count'] = result['als_catsfiltered_added7'].apply(lambda x: len(x))"
   ]
  },
  {
   "cell_type": "code",
   "execution_count": 567,
   "metadata": {},
   "outputs": [
    {
     "name": "stdout",
     "output_type": "stream",
     "text": [
      "Кол-во юзеров с меньше 5 рекомендациями: 0\n",
      "Всего юзеров 2042\n"
     ]
    }
   ],
   "source": [
    "print('Кол-во юзеров с меньше 5 рекомендациями:', result[result['als_catsfiltered_added7_count']<5].shape[0])\n",
    "print('Всего юзеров', result.shape[0])"
   ]
  },
  {
   "cell_type": "code",
   "execution_count": 568,
   "metadata": {},
   "outputs": [
    {
     "data": {
      "text/plain": [
       "0.1145584389251117"
      ]
     },
     "execution_count": 568,
     "metadata": {},
     "output_type": "execute_result"
    }
   ],
   "source": [
    "# добавляем в датасет результатов список цен по рекомендациям для пользователя\n",
    "result = add_price_column(result, item_prices_dict, 'als_catsfiltered_added7')\n",
    "# считаем money_precision_at_k\n",
    "result.apply(lambda row: money_precision_at_k(row['als_catsfiltered_added7'], \n",
    "                                              row['actual'], \n",
    "                                              row['als_catsfiltered_added7_price'], \n",
    "                                              row['actual_price']), axis=1).mean()"
   ]
  },
  {
   "cell_type": "code",
   "execution_count": 569,
   "metadata": {},
   "outputs": [],
   "source": [
    "result['final_rec'] = result['als_catsfiltered_added7'].apply(lambda x: x[:5])"
   ]
  },
  {
   "cell_type": "code",
   "execution_count": 570,
   "metadata": {},
   "outputs": [],
   "source": [
    "result[['user_id', 'final_rec']].to_csv('project_final_rec.csv', index)"
   ]
  }
 ],
 "metadata": {
  "kernelspec": {
   "display_name": "Python 3",
   "language": "python",
   "name": "python3"
  },
  "language_info": {
   "codemirror_mode": {
    "name": "ipython",
    "version": 3
   },
   "file_extension": ".py",
   "mimetype": "text/x-python",
   "name": "python",
   "nbconvert_exporter": "python",
   "pygments_lexer": "ipython3",
   "version": "3.7.7"
  }
 },
 "nbformat": 4,
 "nbformat_minor": 4
}
